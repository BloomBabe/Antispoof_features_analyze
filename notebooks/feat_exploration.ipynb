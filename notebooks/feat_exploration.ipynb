{
 "cells": [
  {
   "cell_type": "code",
   "execution_count": 1,
   "metadata": {
    "collapsed": true,
    "pycharm": {
     "name": "#%%\n"
    }
   },
   "outputs": [],
   "source": [
    "import numpy as np\n",
    "import pandas as pd\n",
    "import seaborn as sns\n",
    "import matplotlib.pyplot as plt"
   ]
  },
  {
   "cell_type": "code",
   "execution_count": 2,
   "outputs": [],
   "source": [
    "data = pd.read_csv('../my_features.csv')"
   ],
   "metadata": {
    "collapsed": false,
    "pycharm": {
     "name": "#%%\n"
    }
   }
  },
  {
   "cell_type": "code",
   "execution_count": 3,
   "outputs": [
    {
     "data": {
      "text/plain": "   label                       filename  WS_BGR_CH0_LH_std  \\\n0      1        AA5742_id154_s0_112.png           2.024784   \n1      1  AAE5573GP98K_id159_s0_118.png           2.222853   \n2      1       FT1080P_id165_s0_105.png           2.625385   \n3      1          FT720P_id1_s0_105.png           4.556735   \n4      1          FT720P_id2_s0_105.png           8.117490   \n\n   WS_BGR_CH0_LH_mean  WS_BGR_CH0_HL_std  WS_BGR_CH0_HL_mean  \\\n0            1.435971           1.999711            1.552271   \n1            1.351828           2.428339            1.370990   \n2            2.109688           2.555435            1.911423   \n3            2.009469           5.029744            2.036808   \n4            3.499210           8.801603            3.953776   \n\n   WS_BGR_CH0_HH_std  WS_BGR_CH0_HH_mean  WS_BGR_CH1_LH_std  \\\n0           0.518205            0.387795           2.034412   \n1           0.732518            0.449193           2.223606   \n2           0.600128            0.487098           2.338574   \n3           1.092331            0.625332           4.709359   \n4           2.284051            1.071623           8.273653   \n\n   WS_BGR_CH1_LH_mean  ...  LBP_GRAY_CH0_SC24+3_COUNTBINS26_NUMBIN16  \\\n0            1.345293  ...                                  0.033834   \n1            1.351927  ...                                  0.036165   \n2            1.386494  ...                                  0.035798   \n3            1.976732  ...                                  0.020698   \n4            3.515972  ...                                  0.025473   \n\n   LBP_GRAY_CH0_SC24+3_COUNTBINS26_NUMBIN17  \\\n0                                  0.030307   \n1                                  0.032282   \n2                                  0.033943   \n3                                  0.021883   \n4                                  0.026220   \n\n   LBP_GRAY_CH0_SC24+3_COUNTBINS26_NUMBIN18  \\\n0                                  0.020500   \n1                                  0.021212   \n2                                  0.025178   \n3                                  0.016993   \n4                                  0.017613   \n\n   LBP_GRAY_CH0_SC24+3_COUNTBINS26_NUMBIN19  \\\n0                                  0.019596   \n1                                  0.018614   \n2                                  0.023839   \n3                                  0.018430   \n4                                  0.016914   \n\n   LBP_GRAY_CH0_SC24+3_COUNTBINS26_NUMBIN20  \\\n0                                  0.017245   \n1                                  0.016375   \n2                                  0.021765   \n3                                  0.020324   \n4                                  0.018112   \n\n   LBP_GRAY_CH0_SC24+3_COUNTBINS26_NUMBIN21  \\\n0                                  0.013764   \n1                                  0.015316   \n2                                  0.018839   \n3                                  0.021863   \n4                                  0.019423   \n\n   LBP_GRAY_CH0_SC24+3_COUNTBINS26_NUMBIN22  \\\n0                                  0.011819   \n1                                  0.013865   \n2                                  0.015370   \n3                                  0.024846   \n4                                  0.020538   \n\n   LBP_GRAY_CH0_SC24+3_COUNTBINS26_NUMBIN23  \\\n0                                  0.005726   \n1                                  0.008434   \n2                                  0.008701   \n3                                  0.014501   \n4                                  0.013533   \n\n   LBP_GRAY_CH0_SC24+3_COUNTBINS26_NUMBIN24  \\\n0                                  0.040108   \n1                                  0.043990   \n2                                  0.062173   \n3                                  0.090978   \n4                                  0.105907   \n\n   LBP_GRAY_CH0_SC24+3_COUNTBINS26_NUMBIN25  \n0                                  0.144682  \n1                                  0.202373  \n2                                  0.208479  \n3                                  0.284032  \n4                                  0.220126  \n\n[5 rows x 776 columns]",
      "text/html": "<div>\n<style scoped>\n    .dataframe tbody tr th:only-of-type {\n        vertical-align: middle;\n    }\n\n    .dataframe tbody tr th {\n        vertical-align: top;\n    }\n\n    .dataframe thead th {\n        text-align: right;\n    }\n</style>\n<table border=\"1\" class=\"dataframe\">\n  <thead>\n    <tr style=\"text-align: right;\">\n      <th></th>\n      <th>label</th>\n      <th>filename</th>\n      <th>WS_BGR_CH0_LH_std</th>\n      <th>WS_BGR_CH0_LH_mean</th>\n      <th>WS_BGR_CH0_HL_std</th>\n      <th>WS_BGR_CH0_HL_mean</th>\n      <th>WS_BGR_CH0_HH_std</th>\n      <th>WS_BGR_CH0_HH_mean</th>\n      <th>WS_BGR_CH1_LH_std</th>\n      <th>WS_BGR_CH1_LH_mean</th>\n      <th>...</th>\n      <th>LBP_GRAY_CH0_SC24+3_COUNTBINS26_NUMBIN16</th>\n      <th>LBP_GRAY_CH0_SC24+3_COUNTBINS26_NUMBIN17</th>\n      <th>LBP_GRAY_CH0_SC24+3_COUNTBINS26_NUMBIN18</th>\n      <th>LBP_GRAY_CH0_SC24+3_COUNTBINS26_NUMBIN19</th>\n      <th>LBP_GRAY_CH0_SC24+3_COUNTBINS26_NUMBIN20</th>\n      <th>LBP_GRAY_CH0_SC24+3_COUNTBINS26_NUMBIN21</th>\n      <th>LBP_GRAY_CH0_SC24+3_COUNTBINS26_NUMBIN22</th>\n      <th>LBP_GRAY_CH0_SC24+3_COUNTBINS26_NUMBIN23</th>\n      <th>LBP_GRAY_CH0_SC24+3_COUNTBINS26_NUMBIN24</th>\n      <th>LBP_GRAY_CH0_SC24+3_COUNTBINS26_NUMBIN25</th>\n    </tr>\n  </thead>\n  <tbody>\n    <tr>\n      <th>0</th>\n      <td>1</td>\n      <td>AA5742_id154_s0_112.png</td>\n      <td>2.024784</td>\n      <td>1.435971</td>\n      <td>1.999711</td>\n      <td>1.552271</td>\n      <td>0.518205</td>\n      <td>0.387795</td>\n      <td>2.034412</td>\n      <td>1.345293</td>\n      <td>...</td>\n      <td>0.033834</td>\n      <td>0.030307</td>\n      <td>0.020500</td>\n      <td>0.019596</td>\n      <td>0.017245</td>\n      <td>0.013764</td>\n      <td>0.011819</td>\n      <td>0.005726</td>\n      <td>0.040108</td>\n      <td>0.144682</td>\n    </tr>\n    <tr>\n      <th>1</th>\n      <td>1</td>\n      <td>AAE5573GP98K_id159_s0_118.png</td>\n      <td>2.222853</td>\n      <td>1.351828</td>\n      <td>2.428339</td>\n      <td>1.370990</td>\n      <td>0.732518</td>\n      <td>0.449193</td>\n      <td>2.223606</td>\n      <td>1.351927</td>\n      <td>...</td>\n      <td>0.036165</td>\n      <td>0.032282</td>\n      <td>0.021212</td>\n      <td>0.018614</td>\n      <td>0.016375</td>\n      <td>0.015316</td>\n      <td>0.013865</td>\n      <td>0.008434</td>\n      <td>0.043990</td>\n      <td>0.202373</td>\n    </tr>\n    <tr>\n      <th>2</th>\n      <td>1</td>\n      <td>FT1080P_id165_s0_105.png</td>\n      <td>2.625385</td>\n      <td>2.109688</td>\n      <td>2.555435</td>\n      <td>1.911423</td>\n      <td>0.600128</td>\n      <td>0.487098</td>\n      <td>2.338574</td>\n      <td>1.386494</td>\n      <td>...</td>\n      <td>0.035798</td>\n      <td>0.033943</td>\n      <td>0.025178</td>\n      <td>0.023839</td>\n      <td>0.021765</td>\n      <td>0.018839</td>\n      <td>0.015370</td>\n      <td>0.008701</td>\n      <td>0.062173</td>\n      <td>0.208479</td>\n    </tr>\n    <tr>\n      <th>3</th>\n      <td>1</td>\n      <td>FT720P_id1_s0_105.png</td>\n      <td>4.556735</td>\n      <td>2.009469</td>\n      <td>5.029744</td>\n      <td>2.036808</td>\n      <td>1.092331</td>\n      <td>0.625332</td>\n      <td>4.709359</td>\n      <td>1.976732</td>\n      <td>...</td>\n      <td>0.020698</td>\n      <td>0.021883</td>\n      <td>0.016993</td>\n      <td>0.018430</td>\n      <td>0.020324</td>\n      <td>0.021863</td>\n      <td>0.024846</td>\n      <td>0.014501</td>\n      <td>0.090978</td>\n      <td>0.284032</td>\n    </tr>\n    <tr>\n      <th>4</th>\n      <td>1</td>\n      <td>FT720P_id2_s0_105.png</td>\n      <td>8.117490</td>\n      <td>3.499210</td>\n      <td>8.801603</td>\n      <td>3.953776</td>\n      <td>2.284051</td>\n      <td>1.071623</td>\n      <td>8.273653</td>\n      <td>3.515972</td>\n      <td>...</td>\n      <td>0.025473</td>\n      <td>0.026220</td>\n      <td>0.017613</td>\n      <td>0.016914</td>\n      <td>0.018112</td>\n      <td>0.019423</td>\n      <td>0.020538</td>\n      <td>0.013533</td>\n      <td>0.105907</td>\n      <td>0.220126</td>\n    </tr>\n  </tbody>\n</table>\n<p>5 rows × 776 columns</p>\n</div>"
     },
     "execution_count": 3,
     "metadata": {},
     "output_type": "execute_result"
    }
   ],
   "source": [
    "data.head()"
   ],
   "metadata": {
    "collapsed": false,
    "pycharm": {
     "name": "#%%\n"
    }
   }
  },
  {
   "cell_type": "code",
   "execution_count": 4,
   "outputs": [],
   "source": [
    "from sklearn.feature_selection import f_classif\n",
    "from sklearn.preprocessing import  MinMaxScaler\n",
    "\n",
    "X = data.drop(columns=['filename', 'label' ])\n",
    "y = data.label"
   ],
   "metadata": {
    "collapsed": false,
    "pycharm": {
     "name": "#%%\n"
    }
   }
  },
  {
   "cell_type": "markdown",
   "source": [
    "Посмотрим на корреляцию признаков:"
   ],
   "metadata": {
    "collapsed": false
   }
  },
  {
   "cell_type": "code",
   "execution_count": 5,
   "outputs": [
    {
     "data": {
      "text/plain": "LBP_HSV_CH0_SC8+1_COUNTBINS10_NUMBIN6   LBP_HSV_CH0_SC8+1_COUNTBINS26_NUMBIN6     1.0\nLBP_YCR_CH1_SC8+1_COUNTBINS10_NUMBIN4   LBP_YCR_CH1_SC8+1_COUNTBINS26_NUMBIN4     1.0\nLBP_HSV_CH0_SC8+1_COUNTBINS10_NUMBIN1   LBP_HSV_CH0_SC8+1_COUNTBINS26_NUMBIN1     1.0\nLBP_HSV_CH1_SC8+1_COUNTBINS10_NUMBIN9   LBP_HSV_CH1_SC8+1_COUNTBINS26_NUMBIN9     1.0\nLBP_BGR_CH1_SC8+1_COUNTBINS10_NUMBIN6   LBP_BGR_CH1_SC8+1_COUNTBINS26_NUMBIN6     1.0\nLBP_YCR_CH0_SC8+1_COUNTBINS10_NUMBIN3   LBP_YCR_CH0_SC8+1_COUNTBINS26_NUMBIN3     1.0\nLBP_GRAY_CH0_SC8+1_COUNTBINS10_NUMBIN7  LBP_GRAY_CH0_SC8+1_COUNTBINS26_NUMBIN7    1.0\nLBP_BGR_CH2_SC8+1_COUNTBINS10_NUMBIN7   LBP_BGR_CH2_SC8+1_COUNTBINS26_NUMBIN7     1.0\nLBP_HSV_CH0_SC8+1_COUNTBINS10_NUMBIN8   LBP_HSV_CH0_SC8+1_COUNTBINS26_NUMBIN8     1.0\nLBP_BGR_CH2_SC8+1_COUNTBINS10_NUMBIN3   LBP_BGR_CH2_SC8+1_COUNTBINS26_NUMBIN3     1.0\nLBP_GRAY_CH0_SC8+1_COUNTBINS10_NUMBIN0  LBP_GRAY_CH0_SC8+1_COUNTBINS26_NUMBIN0    1.0\nLBP_YCR_CH0_SC8+1_COUNTBINS10_NUMBIN8   LBP_YCR_CH0_SC8+1_COUNTBINS26_NUMBIN8     1.0\nLBP_YCR_CH1_SC8+1_COUNTBINS10_NUMBIN8   LBP_YCR_CH1_SC8+1_COUNTBINS26_NUMBIN8     1.0\nLBP_BGR_CH0_SC8+1_COUNTBINS10_NUMBIN4   LBP_BGR_CH0_SC8+1_COUNTBINS26_NUMBIN4     1.0\nLBP_HSV_CH1_SC8+1_COUNTBINS10_NUMBIN1   LBP_HSV_CH1_SC8+1_COUNTBINS26_NUMBIN1     1.0\nLBP_GRAY_CH0_SC8+1_COUNTBINS10_NUMBIN4  LBP_GRAY_CH0_SC8+1_COUNTBINS26_NUMBIN4    1.0\nLBP_YCR_CH2_SC8+1_COUNTBINS10_NUMBIN7   LBP_YCR_CH2_SC8+1_COUNTBINS26_NUMBIN7     1.0\nLBP_BGR_CH0_SC8+1_COUNTBINS10_NUMBIN5   LBP_BGR_CH0_SC8+1_COUNTBINS26_NUMBIN5     1.0\nLBP_HSV_CH0_SC8+1_COUNTBINS10_NUMBIN4   LBP_HSV_CH0_SC8+1_COUNTBINS26_NUMBIN4     1.0\nLBP_YCR_CH1_SC8+1_COUNTBINS10_NUMBIN5   LBP_YCR_CH1_SC8+1_COUNTBINS26_NUMBIN5     1.0\ndtype: float64"
     },
     "execution_count": 5,
     "metadata": {},
     "output_type": "execute_result"
    }
   ],
   "source": [
    "corr = X.corr().abs()\n",
    "sol = (corr.where(np.triu(np.ones(corr.shape), k=1).astype(np.bool))\n",
    "                  .stack()\n",
    "                  .sort_values(ascending=False))\n",
    "sol[:20]"
   ],
   "metadata": {
    "collapsed": false,
    "pycharm": {
     "name": "#%%\n"
    }
   }
  },
  {
   "cell_type": "markdown",
   "source": [
    "Найдем пары признаков, корреляция которых равна единице:"
   ],
   "metadata": {
    "collapsed": false
   }
  },
  {
   "cell_type": "code",
   "execution_count": 6,
   "outputs": [
    {
     "name": "stdout",
     "output_type": "stream",
     "text": [
      "['LBP_HSV_CH0_SC8+1_COUNTBINS10_NUMBIN6', 'LBP_YCR_CH1_SC8+1_COUNTBINS10_NUMBIN4', 'LBP_HSV_CH0_SC8+1_COUNTBINS10_NUMBIN1', 'LBP_HSV_CH1_SC8+1_COUNTBINS10_NUMBIN9', 'LBP_BGR_CH1_SC8+1_COUNTBINS10_NUMBIN6', 'LBP_YCR_CH0_SC8+1_COUNTBINS10_NUMBIN3', 'LBP_GRAY_CH0_SC8+1_COUNTBINS10_NUMBIN7', 'LBP_BGR_CH2_SC8+1_COUNTBINS10_NUMBIN7', 'LBP_HSV_CH0_SC8+1_COUNTBINS10_NUMBIN8', 'LBP_BGR_CH2_SC8+1_COUNTBINS10_NUMBIN3', 'LBP_GRAY_CH0_SC8+1_COUNTBINS10_NUMBIN0', 'LBP_YCR_CH0_SC8+1_COUNTBINS10_NUMBIN8', 'LBP_YCR_CH1_SC8+1_COUNTBINS10_NUMBIN8', 'LBP_BGR_CH0_SC8+1_COUNTBINS10_NUMBIN4', 'LBP_HSV_CH1_SC8+1_COUNTBINS10_NUMBIN1', 'LBP_GRAY_CH0_SC8+1_COUNTBINS10_NUMBIN4', 'LBP_YCR_CH2_SC8+1_COUNTBINS10_NUMBIN7', 'LBP_BGR_CH0_SC8+1_COUNTBINS10_NUMBIN5', 'LBP_HSV_CH0_SC8+1_COUNTBINS10_NUMBIN4', 'LBP_YCR_CH1_SC8+1_COUNTBINS10_NUMBIN5', 'LBP_BGR_CH0_SC8+1_COUNTBINS10_NUMBIN3', 'LBP_HSV_CH2_SC8+1_COUNTBINS10_NUMBIN9', 'LBP_BGR_CH0_SC8+1_COUNTBINS10_NUMBIN8', 'LBP_BGR_CH1_SC8+1_COUNTBINS10_NUMBIN3', 'LBP_BGR_CH0_SC8+1_COUNTBINS10_NUMBIN0', 'LBP_BGR_CH0_SC8+1_COUNTBINS10_NUMBIN9', 'LBP_YCR_CH2_SC8+1_COUNTBINS10_NUMBIN6', 'LBP_BGR_CH2_SC8+1_COUNTBINS10_NUMBIN0', 'LBP_BGR_CH2_SC8+1_COUNTBINS10_NUMBIN5', 'LBP_GRAY_CH0_SC8+1_COUNTBINS10_NUMBIN1', 'LBP_GRAY_CH0_SC8+1_COUNTBINS10_NUMBIN3', 'LBP_HSV_CH0_SC8+1_COUNTBINS10_NUMBIN0', 'LBP_YCR_CH1_SC8+1_COUNTBINS10_NUMBIN9', 'LBP_HSV_CH1_SC8+1_COUNTBINS10_NUMBIN7', 'LBP_GRAY_CH0_SC8+1_COUNTBINS10_NUMBIN8', 'LBP_BGR_CH2_SC8+1_COUNTBINS10_NUMBIN6', 'LBP_BGR_CH1_SC8+1_COUNTBINS10_NUMBIN4', 'LBP_YCR_CH1_SC8+1_COUNTBINS10_NUMBIN2', 'LBP_YCR_CH2_SC8+1_COUNTBINS10_NUMBIN3', 'LBP_YCR_CH2_SC8+1_COUNTBINS10_NUMBIN2', 'LBP_YCR_CH2_SC8+1_COUNTBINS10_NUMBIN9', 'LBP_YCR_CH1_SC8+1_COUNTBINS10_NUMBIN1', 'LBP_GRAY_CH0_SC8+1_COUNTBINS10_NUMBIN9', 'LBP_BGR_CH1_SC8+1_COUNTBINS10_NUMBIN0', 'LBP_BGR_CH2_SC8+1_COUNTBINS10_NUMBIN2', 'LBP_HSV_CH1_SC8+1_COUNTBINS10_NUMBIN3', 'LBP_GRAY_CH0_SC8+1_COUNTBINS10_NUMBIN2', 'LBP_BGR_CH2_SC8+1_COUNTBINS10_NUMBIN8', 'LBP_YCR_CH0_SC8+1_COUNTBINS10_NUMBIN5', 'LBP_HSV_CH1_SC8+1_COUNTBINS10_NUMBIN8', 'LBP_YCR_CH0_SC8+1_COUNTBINS10_NUMBIN6', 'LBP_BGR_CH1_SC8+1_COUNTBINS10_NUMBIN2', 'LBP_HSV_CH0_SC8+1_COUNTBINS10_NUMBIN5', 'LBP_YCR_CH1_SC8+1_COUNTBINS10_NUMBIN0', 'LBP_YCR_CH0_SC8+1_COUNTBINS10_NUMBIN2', 'LBP_BGR_CH0_SC8+1_COUNTBINS10_NUMBIN7', 'LBP_YCR_CH2_SC8+1_COUNTBINS10_NUMBIN5', 'LBP_HSV_CH2_SC8+1_COUNTBINS10_NUMBIN3', 'LBP_HSV_CH0_SC8+1_COUNTBINS10_NUMBIN3', 'LBP_YCR_CH2_SC8+1_COUNTBINS10_NUMBIN1', 'LBP_BGR_CH1_SC8+1_COUNTBINS10_NUMBIN1', 'LBP_YCR_CH0_SC8+1_COUNTBINS10_NUMBIN9', 'LBP_YCR_CH0_SC8+1_COUNTBINS10_NUMBIN0', 'LBP_HSV_CH0_SC8+1_COUNTBINS10_NUMBIN2', 'LBP_HSV_CH2_SC8+1_COUNTBINS10_NUMBIN5', 'LBP_HSV_CH1_SC8+1_COUNTBINS10_NUMBIN2', 'LBP_YCR_CH2_SC8+1_COUNTBINS10_NUMBIN8', 'LBP_YCR_CH2_SC8+1_COUNTBINS10_NUMBIN0', 'LBP_BGR_CH0_SC8+1_COUNTBINS10_NUMBIN2', 'LBP_HSV_CH0_SC8+1_COUNTBINS10_NUMBIN9', 'LBP_YCR_CH0_SC8+1_COUNTBINS10_NUMBIN1', 'LBP_HSV_CH2_SC8+1_COUNTBINS10_NUMBIN2', 'LBP_BGR_CH0_SC8+1_COUNTBINS10_NUMBIN1', 'LBP_YCR_CH1_SC8+1_COUNTBINS10_NUMBIN7', 'LBP_BGR_CH1_SC8+1_COUNTBINS10_NUMBIN8', 'LBP_HSV_CH2_SC8+1_COUNTBINS10_NUMBIN6', 'LBP_YCR_CH1_SC8+1_COUNTBINS10_NUMBIN6', 'LBP_YCR_CH0_SC8+1_COUNTBINS10_NUMBIN4', 'LBP_HSV_CH2_SC8+1_COUNTBINS10_NUMBIN4', 'LBP_YCR_CH1_SC8+1_COUNTBINS10_NUMBIN3', 'LBP_BGR_CH1_SC8+1_COUNTBINS10_NUMBIN7', 'LBP_BGR_CH2_SC8+1_COUNTBINS10_NUMBIN1', 'LBP_HSV_CH1_SC8+1_COUNTBINS10_NUMBIN0', 'LBP_YCR_CH2_SC8+1_COUNTBINS10_NUMBIN4', 'LBP_BGR_CH1_SC8+1_COUNTBINS10_NUMBIN9', 'LBP_HSV_CH1_SC8+1_COUNTBINS10_NUMBIN6', 'LBP_HSV_CH2_SC8+1_COUNTBINS10_NUMBIN0', 'LBP_HSV_CH1_SC8+1_COUNTBINS10_NUMBIN5', 'LBP_HSV_CH0_SC8+1_COUNTBINS10_NUMBIN7', 'LBP_BGR_CH2_SC8+1_COUNTBINS10_NUMBIN9', 'LBP_BGR_CH0_SC8+1_COUNTBINS10_NUMBIN6', 'LBP_HSV_CH2_SC8+1_COUNTBINS10_NUMBIN8', 'LBP_BGR_CH2_SC8+1_COUNTBINS10_NUMBIN4', 'LBP_HSV_CH1_SC8+1_COUNTBINS10_NUMBIN4', 'LBP_HSV_CH2_SC8+1_COUNTBINS10_NUMBIN1', 'LBP_GRAY_CH0_SC8+1_COUNTBINS10_NUMBIN5', 'LBP_YCR_CH0_SC8+1_COUNTBINS10_NUMBIN7', 'LBP_HSV_CH2_SC8+1_COUNTBINS10_NUMBIN7', 'LBP_GRAY_CH0_SC8+1_COUNTBINS10_NUMBIN6', 'LBP_BGR_CH1_SC8+1_COUNTBINS10_NUMBIN5']\n",
      "['LBP_HSV_CH0_SC8+1_COUNTBINS26_NUMBIN6', 'LBP_YCR_CH1_SC8+1_COUNTBINS26_NUMBIN4', 'LBP_HSV_CH0_SC8+1_COUNTBINS26_NUMBIN1', 'LBP_HSV_CH1_SC8+1_COUNTBINS26_NUMBIN9', 'LBP_BGR_CH1_SC8+1_COUNTBINS26_NUMBIN6', 'LBP_YCR_CH0_SC8+1_COUNTBINS26_NUMBIN3', 'LBP_GRAY_CH0_SC8+1_COUNTBINS26_NUMBIN7', 'LBP_BGR_CH2_SC8+1_COUNTBINS26_NUMBIN7', 'LBP_HSV_CH0_SC8+1_COUNTBINS26_NUMBIN8', 'LBP_BGR_CH2_SC8+1_COUNTBINS26_NUMBIN3', 'LBP_GRAY_CH0_SC8+1_COUNTBINS26_NUMBIN0', 'LBP_YCR_CH0_SC8+1_COUNTBINS26_NUMBIN8', 'LBP_YCR_CH1_SC8+1_COUNTBINS26_NUMBIN8', 'LBP_BGR_CH0_SC8+1_COUNTBINS26_NUMBIN4', 'LBP_HSV_CH1_SC8+1_COUNTBINS26_NUMBIN1', 'LBP_GRAY_CH0_SC8+1_COUNTBINS26_NUMBIN4', 'LBP_YCR_CH2_SC8+1_COUNTBINS26_NUMBIN7', 'LBP_BGR_CH0_SC8+1_COUNTBINS26_NUMBIN5', 'LBP_HSV_CH0_SC8+1_COUNTBINS26_NUMBIN4', 'LBP_YCR_CH1_SC8+1_COUNTBINS26_NUMBIN5', 'LBP_BGR_CH0_SC8+1_COUNTBINS26_NUMBIN3', 'LBP_HSV_CH2_SC8+1_COUNTBINS26_NUMBIN9', 'LBP_BGR_CH0_SC8+1_COUNTBINS26_NUMBIN8', 'LBP_BGR_CH1_SC8+1_COUNTBINS26_NUMBIN3', 'LBP_BGR_CH0_SC8+1_COUNTBINS26_NUMBIN0', 'LBP_BGR_CH0_SC8+1_COUNTBINS26_NUMBIN9', 'LBP_YCR_CH2_SC8+1_COUNTBINS26_NUMBIN6', 'LBP_BGR_CH2_SC8+1_COUNTBINS26_NUMBIN0', 'LBP_BGR_CH2_SC8+1_COUNTBINS26_NUMBIN5', 'LBP_GRAY_CH0_SC8+1_COUNTBINS26_NUMBIN1', 'LBP_GRAY_CH0_SC8+1_COUNTBINS26_NUMBIN3', 'LBP_HSV_CH0_SC8+1_COUNTBINS26_NUMBIN0', 'LBP_YCR_CH1_SC8+1_COUNTBINS26_NUMBIN9', 'LBP_HSV_CH1_SC8+1_COUNTBINS26_NUMBIN7', 'LBP_GRAY_CH0_SC8+1_COUNTBINS26_NUMBIN8', 'LBP_BGR_CH2_SC8+1_COUNTBINS26_NUMBIN6', 'LBP_BGR_CH1_SC8+1_COUNTBINS26_NUMBIN4', 'LBP_YCR_CH1_SC8+1_COUNTBINS26_NUMBIN2', 'LBP_YCR_CH2_SC8+1_COUNTBINS26_NUMBIN3', 'LBP_YCR_CH2_SC8+1_COUNTBINS26_NUMBIN2', 'LBP_YCR_CH2_SC8+1_COUNTBINS26_NUMBIN9', 'LBP_YCR_CH1_SC8+1_COUNTBINS26_NUMBIN1', 'LBP_GRAY_CH0_SC8+1_COUNTBINS26_NUMBIN9', 'LBP_BGR_CH1_SC8+1_COUNTBINS26_NUMBIN0', 'LBP_BGR_CH2_SC8+1_COUNTBINS26_NUMBIN2', 'LBP_HSV_CH1_SC8+1_COUNTBINS26_NUMBIN3', 'LBP_GRAY_CH0_SC8+1_COUNTBINS26_NUMBIN2', 'LBP_BGR_CH2_SC8+1_COUNTBINS26_NUMBIN8', 'LBP_YCR_CH0_SC8+1_COUNTBINS26_NUMBIN5', 'LBP_HSV_CH1_SC8+1_COUNTBINS26_NUMBIN8', 'LBP_YCR_CH0_SC8+1_COUNTBINS26_NUMBIN6', 'LBP_BGR_CH1_SC8+1_COUNTBINS26_NUMBIN2', 'LBP_HSV_CH0_SC8+1_COUNTBINS26_NUMBIN5', 'LBP_YCR_CH1_SC8+1_COUNTBINS26_NUMBIN0', 'LBP_YCR_CH0_SC8+1_COUNTBINS26_NUMBIN2', 'LBP_BGR_CH0_SC8+1_COUNTBINS26_NUMBIN7', 'LBP_YCR_CH2_SC8+1_COUNTBINS26_NUMBIN5', 'LBP_HSV_CH2_SC8+1_COUNTBINS26_NUMBIN3', 'LBP_HSV_CH0_SC8+1_COUNTBINS26_NUMBIN3', 'LBP_YCR_CH2_SC8+1_COUNTBINS26_NUMBIN1', 'LBP_BGR_CH1_SC8+1_COUNTBINS26_NUMBIN1', 'LBP_YCR_CH0_SC8+1_COUNTBINS26_NUMBIN9', 'LBP_YCR_CH0_SC8+1_COUNTBINS26_NUMBIN0', 'LBP_HSV_CH0_SC8+1_COUNTBINS26_NUMBIN2', 'LBP_HSV_CH2_SC8+1_COUNTBINS26_NUMBIN5', 'LBP_HSV_CH1_SC8+1_COUNTBINS26_NUMBIN2', 'LBP_YCR_CH2_SC8+1_COUNTBINS26_NUMBIN8', 'LBP_YCR_CH2_SC8+1_COUNTBINS26_NUMBIN0', 'LBP_BGR_CH0_SC8+1_COUNTBINS26_NUMBIN2', 'LBP_HSV_CH0_SC8+1_COUNTBINS26_NUMBIN9', 'LBP_YCR_CH0_SC8+1_COUNTBINS26_NUMBIN1', 'LBP_HSV_CH2_SC8+1_COUNTBINS26_NUMBIN2', 'LBP_BGR_CH0_SC8+1_COUNTBINS26_NUMBIN1', 'LBP_YCR_CH1_SC8+1_COUNTBINS26_NUMBIN7', 'LBP_BGR_CH1_SC8+1_COUNTBINS26_NUMBIN8', 'LBP_HSV_CH2_SC8+1_COUNTBINS26_NUMBIN6', 'LBP_YCR_CH1_SC8+1_COUNTBINS26_NUMBIN6', 'LBP_YCR_CH0_SC8+1_COUNTBINS26_NUMBIN4', 'LBP_HSV_CH2_SC8+1_COUNTBINS26_NUMBIN4', 'LBP_YCR_CH1_SC8+1_COUNTBINS26_NUMBIN3', 'LBP_BGR_CH1_SC8+1_COUNTBINS26_NUMBIN7', 'LBP_BGR_CH2_SC8+1_COUNTBINS26_NUMBIN1', 'LBP_HSV_CH1_SC8+1_COUNTBINS26_NUMBIN0', 'LBP_YCR_CH2_SC8+1_COUNTBINS26_NUMBIN4', 'LBP_BGR_CH1_SC8+1_COUNTBINS26_NUMBIN9', 'LBP_HSV_CH1_SC8+1_COUNTBINS26_NUMBIN6', 'LBP_HSV_CH2_SC8+1_COUNTBINS26_NUMBIN0', 'LBP_HSV_CH1_SC8+1_COUNTBINS26_NUMBIN5', 'LBP_HSV_CH0_SC8+1_COUNTBINS26_NUMBIN7', 'LBP_BGR_CH2_SC8+1_COUNTBINS26_NUMBIN9', 'LBP_BGR_CH0_SC8+1_COUNTBINS26_NUMBIN6', 'LBP_HSV_CH2_SC8+1_COUNTBINS26_NUMBIN8', 'LBP_BGR_CH2_SC8+1_COUNTBINS26_NUMBIN4', 'LBP_HSV_CH1_SC8+1_COUNTBINS26_NUMBIN4', 'LBP_HSV_CH2_SC8+1_COUNTBINS26_NUMBIN1', 'LBP_GRAY_CH0_SC8+1_COUNTBINS26_NUMBIN5', 'LBP_YCR_CH0_SC8+1_COUNTBINS26_NUMBIN7', 'LBP_HSV_CH2_SC8+1_COUNTBINS26_NUMBIN7', 'LBP_GRAY_CH0_SC8+1_COUNTBINS26_NUMBIN6', 'LBP_BGR_CH1_SC8+1_COUNTBINS26_NUMBIN5']\n"
     ]
    }
   ],
   "source": [
    "corr_feat_1 = []\n",
    "corr_feat_2 = []\n",
    "for feat1, feat2 in sol[sol==1].index:\n",
    "    corr_feat_1.append(feat1)\n",
    "    corr_feat_2.append(feat2)\n",
    "print(corr_feat_1)\n",
    "print(corr_feat_2)"
   ],
   "metadata": {
    "collapsed": false,
    "pycharm": {
     "name": "#%%\n"
    }
   }
  },
  {
   "cell_type": "markdown",
   "source": [
    "Удаляем один из двух векторов признаков с корреляцией = 1.0"
   ],
   "metadata": {
    "collapsed": false
   }
  },
  {
   "cell_type": "code",
   "execution_count": 7,
   "outputs": [],
   "source": [
    "X.drop(columns=corr_feat_1, inplace=True)"
   ],
   "metadata": {
    "collapsed": false,
    "pycharm": {
     "name": "#%%\n"
    }
   }
  },
  {
   "cell_type": "code",
   "execution_count": 8,
   "outputs": [
    {
     "data": {
      "text/plain": "     WS_BGR_CH0_LH_std  WS_BGR_CH0_LH_mean  WS_BGR_CH0_HL_std  \\\n0             2.024784            1.435971           1.999711   \n1             2.222853            1.351828           2.428339   \n2             2.625385            2.109688           2.555435   \n3             4.556735            2.009469           5.029744   \n4             8.117490            3.499210           8.801603   \n..                 ...                 ...                ...   \n195           1.676880            1.150144           1.969056   \n196           4.938273            1.076400           2.431299   \n197           2.600897            1.444506           2.419486   \n198           2.200067            1.307937           3.659320   \n199           3.020678            1.914678           3.247716   \n\n     WS_BGR_CH0_HL_mean  WS_BGR_CH0_HH_std  WS_BGR_CH0_HH_mean  \\\n0              1.552271           0.518205            0.387795   \n1              1.370990           0.732518            0.449193   \n2              1.911423           0.600128            0.487098   \n3              2.036808           1.092331            0.625332   \n4              3.953776           2.284051            1.071623   \n..                  ...                ...                 ...   \n195            1.518078           0.420700            0.359971   \n196            0.985185           0.498938            0.195515   \n197            1.365100           0.410470            0.279367   \n198            2.270417           0.525521            0.412294   \n199            2.421131           0.639410            0.476605   \n\n     WS_BGR_CH1_LH_std  WS_BGR_CH1_LH_mean  WS_BGR_CH1_HL_std  \\\n0             2.034412            1.345293           2.030264   \n1             2.223606            1.351927           2.429733   \n2             2.338574            1.386494           2.465361   \n3             4.709359            1.976732           5.107475   \n4             8.273653            3.515972           8.976819   \n..                 ...                 ...                ...   \n195           1.732078            1.148009           1.998188   \n196           4.816433            1.009122           2.443166   \n197           2.610030            1.418002           2.463315   \n198           2.220506            1.285894           3.685493   \n199           3.085630            1.905760           3.263782   \n\n     WS_BGR_CH1_HL_mean  ...  LBP_GRAY_CH0_SC24+3_COUNTBINS26_NUMBIN16  \\\n0              1.510959  ...                                  0.033834   \n1              1.371130  ...                                  0.036165   \n2              1.402123  ...                                  0.035798   \n3              1.982092  ...                                  0.020698   \n4              3.941580  ...                                  0.025473   \n..                  ...  ...                                       ...   \n195            1.521642  ...                                  0.026733   \n196            0.950718  ...                                  0.030911   \n197            1.345347  ...                                  0.032488   \n198            2.251467  ...                                  0.026768   \n199            2.389183  ...                                  0.025463   \n\n     LBP_GRAY_CH0_SC24+3_COUNTBINS26_NUMBIN17  \\\n0                                    0.030307   \n1                                    0.032282   \n2                                    0.033943   \n3                                    0.021883   \n4                                    0.026220   \n..                                        ...   \n195                                  0.022363   \n196                                  0.034783   \n197                                  0.031277   \n198                                  0.023513   \n199                                  0.022563   \n\n     LBP_GRAY_CH0_SC24+3_COUNTBINS26_NUMBIN18  \\\n0                                    0.020500   \n1                                    0.021212   \n2                                    0.025178   \n3                                    0.016993   \n4                                    0.017613   \n..                                        ...   \n195                                  0.015664   \n196                                  0.018702   \n197                                  0.018454   \n198                                  0.015695   \n199                                  0.016326   \n\n     LBP_GRAY_CH0_SC24+3_COUNTBINS26_NUMBIN19  \\\n0                                    0.019596   \n1                                    0.018614   \n2                                    0.023839   \n3                                    0.018430   \n4                                    0.016914   \n..                                        ...   \n195                                  0.015819   \n196                                  0.016852   \n197                                  0.016856   \n198                                  0.015303   \n199                                  0.016846   \n\n     LBP_GRAY_CH0_SC24+3_COUNTBINS26_NUMBIN20  \\\n0                                    0.017245   \n1                                    0.016375   \n2                                    0.021765   \n3                                    0.020324   \n4                                    0.018112   \n..                                        ...   \n195                                  0.016040   \n196                                  0.014405   \n197                                  0.015131   \n198                                  0.015429   \n199                                  0.016815   \n\n     LBP_GRAY_CH0_SC24+3_COUNTBINS26_NUMBIN21  \\\n0                                    0.013764   \n1                                    0.015316   \n2                                    0.018839   \n3                                    0.021863   \n4                                    0.019423   \n..                                        ...   \n195                                  0.016788   \n196                                  0.017133   \n197                                  0.013688   \n198                                  0.018262   \n199                                  0.016219   \n\n     LBP_GRAY_CH0_SC24+3_COUNTBINS26_NUMBIN22  \\\n0                                    0.011819   \n1                                    0.013865   \n2                                    0.015370   \n3                                    0.024846   \n4                                    0.020538   \n..                                        ...   \n195                                  0.016805   \n196                                  0.016135   \n197                                  0.012595   \n198                                  0.018415   \n199                                  0.014054   \n\n     LBP_GRAY_CH0_SC24+3_COUNTBINS26_NUMBIN23  \\\n0                                    0.005726   \n1                                    0.008434   \n2                                    0.008701   \n3                                    0.014501   \n4                                    0.013533   \n..                                        ...   \n195                                  0.009276   \n196                                  0.009943   \n197                                  0.006726   \n198                                  0.010838   \n199                                  0.007919   \n\n     LBP_GRAY_CH0_SC24+3_COUNTBINS26_NUMBIN24  \\\n0                                    0.040108   \n1                                    0.043990   \n2                                    0.062173   \n3                                    0.090978   \n4                                    0.105907   \n..                                        ...   \n195                                  0.093676   \n196                                  0.298633   \n197                                  0.092158   \n198                                  0.090478   \n199                                  0.041447   \n\n     LBP_GRAY_CH0_SC24+3_COUNTBINS26_NUMBIN25  \n0                                    0.144682  \n1                                    0.202373  \n2                                    0.208479  \n3                                    0.284032  \n4                                    0.220126  \n..                                        ...  \n195                                  0.153954  \n196                                  0.093103  \n197                                  0.120115  \n198                                  0.172392  \n199                                  0.136021  \n\n[200 rows x 674 columns]",
      "text/html": "<div>\n<style scoped>\n    .dataframe tbody tr th:only-of-type {\n        vertical-align: middle;\n    }\n\n    .dataframe tbody tr th {\n        vertical-align: top;\n    }\n\n    .dataframe thead th {\n        text-align: right;\n    }\n</style>\n<table border=\"1\" class=\"dataframe\">\n  <thead>\n    <tr style=\"text-align: right;\">\n      <th></th>\n      <th>WS_BGR_CH0_LH_std</th>\n      <th>WS_BGR_CH0_LH_mean</th>\n      <th>WS_BGR_CH0_HL_std</th>\n      <th>WS_BGR_CH0_HL_mean</th>\n      <th>WS_BGR_CH0_HH_std</th>\n      <th>WS_BGR_CH0_HH_mean</th>\n      <th>WS_BGR_CH1_LH_std</th>\n      <th>WS_BGR_CH1_LH_mean</th>\n      <th>WS_BGR_CH1_HL_std</th>\n      <th>WS_BGR_CH1_HL_mean</th>\n      <th>...</th>\n      <th>LBP_GRAY_CH0_SC24+3_COUNTBINS26_NUMBIN16</th>\n      <th>LBP_GRAY_CH0_SC24+3_COUNTBINS26_NUMBIN17</th>\n      <th>LBP_GRAY_CH0_SC24+3_COUNTBINS26_NUMBIN18</th>\n      <th>LBP_GRAY_CH0_SC24+3_COUNTBINS26_NUMBIN19</th>\n      <th>LBP_GRAY_CH0_SC24+3_COUNTBINS26_NUMBIN20</th>\n      <th>LBP_GRAY_CH0_SC24+3_COUNTBINS26_NUMBIN21</th>\n      <th>LBP_GRAY_CH0_SC24+3_COUNTBINS26_NUMBIN22</th>\n      <th>LBP_GRAY_CH0_SC24+3_COUNTBINS26_NUMBIN23</th>\n      <th>LBP_GRAY_CH0_SC24+3_COUNTBINS26_NUMBIN24</th>\n      <th>LBP_GRAY_CH0_SC24+3_COUNTBINS26_NUMBIN25</th>\n    </tr>\n  </thead>\n  <tbody>\n    <tr>\n      <th>0</th>\n      <td>2.024784</td>\n      <td>1.435971</td>\n      <td>1.999711</td>\n      <td>1.552271</td>\n      <td>0.518205</td>\n      <td>0.387795</td>\n      <td>2.034412</td>\n      <td>1.345293</td>\n      <td>2.030264</td>\n      <td>1.510959</td>\n      <td>...</td>\n      <td>0.033834</td>\n      <td>0.030307</td>\n      <td>0.020500</td>\n      <td>0.019596</td>\n      <td>0.017245</td>\n      <td>0.013764</td>\n      <td>0.011819</td>\n      <td>0.005726</td>\n      <td>0.040108</td>\n      <td>0.144682</td>\n    </tr>\n    <tr>\n      <th>1</th>\n      <td>2.222853</td>\n      <td>1.351828</td>\n      <td>2.428339</td>\n      <td>1.370990</td>\n      <td>0.732518</td>\n      <td>0.449193</td>\n      <td>2.223606</td>\n      <td>1.351927</td>\n      <td>2.429733</td>\n      <td>1.371130</td>\n      <td>...</td>\n      <td>0.036165</td>\n      <td>0.032282</td>\n      <td>0.021212</td>\n      <td>0.018614</td>\n      <td>0.016375</td>\n      <td>0.015316</td>\n      <td>0.013865</td>\n      <td>0.008434</td>\n      <td>0.043990</td>\n      <td>0.202373</td>\n    </tr>\n    <tr>\n      <th>2</th>\n      <td>2.625385</td>\n      <td>2.109688</td>\n      <td>2.555435</td>\n      <td>1.911423</td>\n      <td>0.600128</td>\n      <td>0.487098</td>\n      <td>2.338574</td>\n      <td>1.386494</td>\n      <td>2.465361</td>\n      <td>1.402123</td>\n      <td>...</td>\n      <td>0.035798</td>\n      <td>0.033943</td>\n      <td>0.025178</td>\n      <td>0.023839</td>\n      <td>0.021765</td>\n      <td>0.018839</td>\n      <td>0.015370</td>\n      <td>0.008701</td>\n      <td>0.062173</td>\n      <td>0.208479</td>\n    </tr>\n    <tr>\n      <th>3</th>\n      <td>4.556735</td>\n      <td>2.009469</td>\n      <td>5.029744</td>\n      <td>2.036808</td>\n      <td>1.092331</td>\n      <td>0.625332</td>\n      <td>4.709359</td>\n      <td>1.976732</td>\n      <td>5.107475</td>\n      <td>1.982092</td>\n      <td>...</td>\n      <td>0.020698</td>\n      <td>0.021883</td>\n      <td>0.016993</td>\n      <td>0.018430</td>\n      <td>0.020324</td>\n      <td>0.021863</td>\n      <td>0.024846</td>\n      <td>0.014501</td>\n      <td>0.090978</td>\n      <td>0.284032</td>\n    </tr>\n    <tr>\n      <th>4</th>\n      <td>8.117490</td>\n      <td>3.499210</td>\n      <td>8.801603</td>\n      <td>3.953776</td>\n      <td>2.284051</td>\n      <td>1.071623</td>\n      <td>8.273653</td>\n      <td>3.515972</td>\n      <td>8.976819</td>\n      <td>3.941580</td>\n      <td>...</td>\n      <td>0.025473</td>\n      <td>0.026220</td>\n      <td>0.017613</td>\n      <td>0.016914</td>\n      <td>0.018112</td>\n      <td>0.019423</td>\n      <td>0.020538</td>\n      <td>0.013533</td>\n      <td>0.105907</td>\n      <td>0.220126</td>\n    </tr>\n    <tr>\n      <th>...</th>\n      <td>...</td>\n      <td>...</td>\n      <td>...</td>\n      <td>...</td>\n      <td>...</td>\n      <td>...</td>\n      <td>...</td>\n      <td>...</td>\n      <td>...</td>\n      <td>...</td>\n      <td>...</td>\n      <td>...</td>\n      <td>...</td>\n      <td>...</td>\n      <td>...</td>\n      <td>...</td>\n      <td>...</td>\n      <td>...</td>\n      <td>...</td>\n      <td>...</td>\n      <td>...</td>\n    </tr>\n    <tr>\n      <th>195</th>\n      <td>1.676880</td>\n      <td>1.150144</td>\n      <td>1.969056</td>\n      <td>1.518078</td>\n      <td>0.420700</td>\n      <td>0.359971</td>\n      <td>1.732078</td>\n      <td>1.148009</td>\n      <td>1.998188</td>\n      <td>1.521642</td>\n      <td>...</td>\n      <td>0.026733</td>\n      <td>0.022363</td>\n      <td>0.015664</td>\n      <td>0.015819</td>\n      <td>0.016040</td>\n      <td>0.016788</td>\n      <td>0.016805</td>\n      <td>0.009276</td>\n      <td>0.093676</td>\n      <td>0.153954</td>\n    </tr>\n    <tr>\n      <th>196</th>\n      <td>4.938273</td>\n      <td>1.076400</td>\n      <td>2.431299</td>\n      <td>0.985185</td>\n      <td>0.498938</td>\n      <td>0.195515</td>\n      <td>4.816433</td>\n      <td>1.009122</td>\n      <td>2.443166</td>\n      <td>0.950718</td>\n      <td>...</td>\n      <td>0.030911</td>\n      <td>0.034783</td>\n      <td>0.018702</td>\n      <td>0.016852</td>\n      <td>0.014405</td>\n      <td>0.017133</td>\n      <td>0.016135</td>\n      <td>0.009943</td>\n      <td>0.298633</td>\n      <td>0.093103</td>\n    </tr>\n    <tr>\n      <th>197</th>\n      <td>2.600897</td>\n      <td>1.444506</td>\n      <td>2.419486</td>\n      <td>1.365100</td>\n      <td>0.410470</td>\n      <td>0.279367</td>\n      <td>2.610030</td>\n      <td>1.418002</td>\n      <td>2.463315</td>\n      <td>1.345347</td>\n      <td>...</td>\n      <td>0.032488</td>\n      <td>0.031277</td>\n      <td>0.018454</td>\n      <td>0.016856</td>\n      <td>0.015131</td>\n      <td>0.013688</td>\n      <td>0.012595</td>\n      <td>0.006726</td>\n      <td>0.092158</td>\n      <td>0.120115</td>\n    </tr>\n    <tr>\n      <th>198</th>\n      <td>2.200067</td>\n      <td>1.307937</td>\n      <td>3.659320</td>\n      <td>2.270417</td>\n      <td>0.525521</td>\n      <td>0.412294</td>\n      <td>2.220506</td>\n      <td>1.285894</td>\n      <td>3.685493</td>\n      <td>2.251467</td>\n      <td>...</td>\n      <td>0.026768</td>\n      <td>0.023513</td>\n      <td>0.015695</td>\n      <td>0.015303</td>\n      <td>0.015429</td>\n      <td>0.018262</td>\n      <td>0.018415</td>\n      <td>0.010838</td>\n      <td>0.090478</td>\n      <td>0.172392</td>\n    </tr>\n    <tr>\n      <th>199</th>\n      <td>3.020678</td>\n      <td>1.914678</td>\n      <td>3.247716</td>\n      <td>2.421131</td>\n      <td>0.639410</td>\n      <td>0.476605</td>\n      <td>3.085630</td>\n      <td>1.905760</td>\n      <td>3.263782</td>\n      <td>2.389183</td>\n      <td>...</td>\n      <td>0.025463</td>\n      <td>0.022563</td>\n      <td>0.016326</td>\n      <td>0.016846</td>\n      <td>0.016815</td>\n      <td>0.016219</td>\n      <td>0.014054</td>\n      <td>0.007919</td>\n      <td>0.041447</td>\n      <td>0.136021</td>\n    </tr>\n  </tbody>\n</table>\n<p>200 rows × 674 columns</p>\n</div>"
     },
     "execution_count": 8,
     "metadata": {},
     "output_type": "execute_result"
    }
   ],
   "source": [
    "X"
   ],
   "metadata": {
    "collapsed": false,
    "pycharm": {
     "name": "#%%\n"
    }
   }
  },
  {
   "cell_type": "markdown",
   "source": [
    "Можно заметить, что корреляция 1 достигается между значениями некоторых бинов для LBP дескрипторов с разными масштабами\n",
    "(разным количеством бинов для описания)"
   ],
   "metadata": {
    "collapsed": false
   }
  },
  {
   "cell_type": "markdown",
   "source": [
    "Проведем сортировку признаков по f-значению, полученному в результате дисперсионного анализа ANOVA.\n",
    "Данный тест проверяет нулевую гипотезу о том, что средние двух выборок одного признака для каждого из меток класса\n",
    "имеют в генеральной совокупности равные средние. Таким образом, если уровень значимости для меньше 0,05, то можно\n",
    "утверждать, что средние двух выборок принадлежит разным генеральным совокупностям и различия в них статистически\n",
    "значимы. ANOVA имеет ряд ограничений, а именно:\n",
    "    - Выборки независимы.\n",
    "    - Каждая из выборок принадлежит нормальному распределнию. Проверяем тестом Д’Агостино и Пирсона.\n",
    "    - Гомоскедастичность. Стандартные отклонения выборок равны. Проверяем тестом Барлетта.\n"
   ],
   "metadata": {
    "collapsed": false,
    "pycharm": {
     "name": "#%% md\n"
    }
   }
  },
  {
   "cell_type": "markdown",
   "source": [
    "Итеративно для каждого признака осуществляем проверку на равенство дисперсий выборок и на принадлежность\n",
    "нормальному распределению. Если признак не проходит проверку по одному из тестов, то его название добавляется\n",
    "в соответствующий список."
   ],
   "metadata": {
    "collapsed": false,
    "pycharm": {
     "name": "#%% md\n"
    }
   }
  },
  {
   "cell_type": "code",
   "execution_count": 9,
   "outputs": [],
   "source": [
    "from scipy import stats\n",
    "\n",
    "for feat in X.columns:\n",
    "    unnormal_feats = []\n",
    "    unhomosced_feats = []\n",
    "    feat_df = pd.concat([X[feat], y], axis=1)\n",
    "\n",
    "    sample_1 = feat_df[feat_df.label == 1][feat]\n",
    "    sample_2 = feat_df[feat_df.label == 0][feat]\n",
    "\n",
    "    stat_1, p_value_1 = stats.normaltest(sample_1)\n",
    "    stat_2, p_value_2 = stats.normaltest(sample_2)\n",
    "\n",
    "    if p_value_1 < 0.05 or p_value_2 < 0.05:\n",
    "        unnormal_feats.append(feat)\n",
    "        continue\n",
    "\n",
    "    hstat, hp_value = stats.bartlett(sample_1, sample_2)\n",
    "\n",
    "    if hp_value < 0.05:\n",
    "        unhomosced_feats.append(feat)"
   ],
   "metadata": {
    "collapsed": false,
    "pycharm": {
     "name": "#%%\n"
    }
   }
  },
  {
   "cell_type": "code",
   "execution_count": 10,
   "outputs": [
    {
     "name": "stdout",
     "output_type": "stream",
     "text": [
      "1\n",
      "0\n"
     ]
    }
   ],
   "source": [
    "print(len(unnormal_feats))\n",
    "print(len(unhomosced_feats))"
   ],
   "metadata": {
    "collapsed": false,
    "pycharm": {
     "name": "#%%\n"
    }
   }
  },
  {
   "cell_type": "markdown",
   "source": [
    "Видим, что только один признак не прошел проверку на нормальность."
   ],
   "metadata": {
    "collapsed": false,
    "pycharm": {
     "name": "#%% md\n"
    }
   }
  },
  {
   "cell_type": "code",
   "execution_count": 11,
   "outputs": [
    {
     "data": {
      "text/plain": "['LBP_GRAY_CH0_SC24+3_COUNTBINS26_NUMBIN25']"
     },
     "execution_count": 11,
     "metadata": {},
     "output_type": "execute_result"
    }
   ],
   "source": [
    "unnormal_feats"
   ],
   "metadata": {
    "collapsed": false,
    "pycharm": {
     "name": "#%%\n"
    }
   }
  },
  {
   "cell_type": "code",
   "execution_count": 12,
   "outputs": [
    {
     "data": {
      "text/plain": "<AxesSubplot:>"
     },
     "execution_count": 12,
     "metadata": {},
     "output_type": "execute_result"
    },
    {
     "data": {
      "text/plain": "<Figure size 432x288 with 1 Axes>",
      "image/png": "[encoded data removed]"
     },
     "metadata": {
      "needs_background": "light"
     },
     "output_type": "display_data"
    }
   ],
   "source": [
    "data[data.label==1]['LBP_GRAY_CH0_SC24+3_COUNTBINS26_NUMBIN25'].hist()"
   ],
   "metadata": {
    "collapsed": false,
    "pycharm": {
     "name": "#%%\n"
    }
   }
  },
  {
   "cell_type": "markdown",
   "source": [
    "Проводим тест ANOVA и ранжируем признаки по p-уровню значимости:"
   ],
   "metadata": {
    "collapsed": false
   }
  },
  {
   "cell_type": "code",
   "execution_count": 13,
   "outputs": [
    {
     "name": "stderr",
     "output_type": "stream",
     "text": [
      "D:\\Anaconda\\envs\\myenv\\lib\\site-packages\\sklearn\\feature_selection\\_univariate_selection.py:114: UserWarning: Features [ 64  65  66  67  68  69  70  71  72  73  74  75  76  77  78  79 126 127\n",
      " 128 129 130 131 132 133 134 135 136 137 138 139 140 141 188 189 190 191\n",
      " 192 193 194 195 196 197 198 199 200 201 202 203 250 251 252 253 254 255\n",
      " 256 257 258 259 260 261 262 263 264 265 312 313 314 315 316 317 318 319\n",
      " 320 321 322 323 324 325 326 327 374 375 376 377 378 379 380 381 382 383\n",
      " 384 385 386 387 388 389 436 437 438 439 440 441 442 443 444 445 446 447\n",
      " 448 449 450 451 498 499 500 501 502 503 504 505 506 507 508 509 510 511\n",
      " 512 513 560 561 562 563 564 565 566 567 568 569 570 571 572 573 574 575\n",
      " 622 623 624 625 626 627 628 629 630 631 632 633 634 635 636 637] are constant.\n",
      "  warnings.warn(\"Features %s are constant.\" % constant_features_idx,\n",
      "D:\\Anaconda\\envs\\myenv\\lib\\site-packages\\sklearn\\feature_selection\\_univariate_selection.py:116: RuntimeWarning: invalid value encountered in true_divide\n",
      "  f = msb / msw\n"
     ]
    }
   ],
   "source": [
    "f_score, f_pval = f_classif(X, y)\n",
    "f_scores_data = pd.DataFrame(np.concatenate([np.expand_dims(f_score, -1), np.expand_dims(f_pval, -1)], axis=1),\n",
    "                             columns=['f_score', 'pval'], index=X.columns)"
   ],
   "metadata": {
    "collapsed": false,
    "pycharm": {
     "name": "#%%\n"
    }
   }
  },
  {
   "cell_type": "code",
   "execution_count": 14,
   "outputs": [
    {
     "data": {
      "text/plain": "                                           f_score          pval\nLBP_YCR_CH2_SC24+3_COUNTBINS10_NUMBIN4   92.665469  3.095115e-18\nLBP_YCR_CH2_SC24+3_COUNTBINS10_NUMBIN2   89.889458  8.084656e-18\nLBP_YCR_CH2_SC24+3_COUNTBINS10_NUMBIN9   64.848023  7.407188e-14\nLBP_GRAY_CH0_SC24+3_COUNTBINS10_NUMBIN8  57.162479  1.464460e-12\nLBP_YCR_CH1_SC24+3_COUNTBINS10_NUMBIN4   49.830581  2.764822e-11",
      "text/html": "<div>\n<style scoped>\n    .dataframe tbody tr th:only-of-type {\n        vertical-align: middle;\n    }\n\n    .dataframe tbody tr th {\n        vertical-align: top;\n    }\n\n    .dataframe thead th {\n        text-align: right;\n    }\n</style>\n<table border=\"1\" class=\"dataframe\">\n  <thead>\n    <tr style=\"text-align: right;\">\n      <th></th>\n      <th>f_score</th>\n      <th>pval</th>\n    </tr>\n  </thead>\n  <tbody>\n    <tr>\n      <th>LBP_YCR_CH2_SC24+3_COUNTBINS10_NUMBIN4</th>\n      <td>92.665469</td>\n      <td>3.095115e-18</td>\n    </tr>\n    <tr>\n      <th>LBP_YCR_CH2_SC24+3_COUNTBINS10_NUMBIN2</th>\n      <td>89.889458</td>\n      <td>8.084656e-18</td>\n    </tr>\n    <tr>\n      <th>LBP_YCR_CH2_SC24+3_COUNTBINS10_NUMBIN9</th>\n      <td>64.848023</td>\n      <td>7.407188e-14</td>\n    </tr>\n    <tr>\n      <th>LBP_GRAY_CH0_SC24+3_COUNTBINS10_NUMBIN8</th>\n      <td>57.162479</td>\n      <td>1.464460e-12</td>\n    </tr>\n    <tr>\n      <th>LBP_YCR_CH1_SC24+3_COUNTBINS10_NUMBIN4</th>\n      <td>49.830581</td>\n      <td>2.764822e-11</td>\n    </tr>\n  </tbody>\n</table>\n</div>"
     },
     "execution_count": 14,
     "metadata": {},
     "output_type": "execute_result"
    }
   ],
   "source": [
    "f_scores_data.sort_values(ascending=True, by='pval').head()"
   ],
   "metadata": {
    "collapsed": false,
    "pycharm": {
     "name": "#%%\n"
    }
   }
  },
  {
   "cell_type": "markdown",
   "source": [
    "Сортируем признаки по p уровню значимости, фильтруем по пороговому значению для p, равному 0,05, если p уровень значимости для признака выше\n",
    "порогового значения, то различия средних в двух выборках статистически не значимы."
   ],
   "metadata": {
    "collapsed": false,
    "pycharm": {
     "name": "#%% md\n"
    }
   }
  },
  {
   "cell_type": "code",
   "execution_count": 15,
   "outputs": [
    {
     "data": {
      "text/plain": "265"
     },
     "execution_count": 15,
     "metadata": {},
     "output_type": "execute_result"
    }
   ],
   "source": [
    "f_scored_filtered_feat = list(f_scores_data[f_scores_data.pval < 0.05].index)\n",
    "len(f_scored_filtered_feat)"
   ],
   "metadata": {
    "collapsed": false,
    "pycharm": {
     "name": "#%%\n"
    }
   }
  },
  {
   "cell_type": "markdown",
   "source": [
    "После фильтрации осталось 265 признаков."
   ],
   "metadata": {
    "collapsed": false
   }
  },
  {
   "cell_type": "markdown",
   "source": [
    "Проведем также bootstrap тест на сравнение медиан двух выборок для каждого признака."
   ],
   "metadata": {
    "collapsed": false
   }
  },
  {
   "cell_type": "code",
   "execution_count": 16,
   "outputs": [],
   "source": [
    "import bootstrapped.bootstrap as bs\n",
    "import bootstrapped.compare_functions as bs_compare\n",
    "import bootstrapped.stats_functions as bs_stats\n",
    "\n",
    "stat_significant = []\n",
    "for feat in X.columns:\n",
    "    feat_df = pd.concat([X[feat], y], axis=1)\n",
    "\n",
    "    sample_1 = feat_df[feat_df.label == 1][feat].to_numpy()\n",
    "    sample_2 = feat_df[feat_df.label == 0][feat].to_numpy()\n",
    "    conf_interval =  bs.bootstrap_ab(\n",
    "                                        sample_1,\n",
    "                                        sample_2,\n",
    "                                        stat_func=bs_stats.median,\n",
    "                                        compare_func=bs_compare.difference,\n",
    "                                        iteration_batch_size=None,\n",
    "                                    )\n",
    "    lower_bounder = conf_interval.lower_bound\n",
    "    upper_bounder = conf_interval.upper_bound\n",
    "\n",
    "    if (lower_bounder <= 0) & (upper_bounder>=0):\n",
    "        stat_significant.append(0)\n",
    "    else:\n",
    "        stat_significant.append(1)"
   ],
   "metadata": {
    "collapsed": false,
    "pycharm": {
     "name": "#%%\n"
    }
   }
  },
  {
   "cell_type": "markdown",
   "source": [
    "Построим табличку, где напротив признака стоит значение 1, если признак статистически значим по итогам проверки, иначе 0."
   ],
   "metadata": {
    "collapsed": false,
    "pycharm": {
     "name": "#%% md\n"
    }
   }
  },
  {
   "cell_type": "code",
   "execution_count": 17,
   "outputs": [
    {
     "data": {
      "text/plain": "                                          stat_significant\nWS_BGR_CH0_LH_std                                        1\nWS_BGR_CH0_LH_mean                                       1\nWS_BGR_CH0_HL_std                                        1\nWS_BGR_CH0_HL_mean                                       1\nWS_BGR_CH0_HH_std                                        1\n...                                                    ...\nLBP_GRAY_CH0_SC24+3_COUNTBINS26_NUMBIN17                 1\nLBP_GRAY_CH0_SC24+3_COUNTBINS26_NUMBIN18                 1\nLBP_GRAY_CH0_SC24+3_COUNTBINS26_NUMBIN19                 1\nLBP_GRAY_CH0_SC24+3_COUNTBINS26_NUMBIN24                 1\nLBP_GRAY_CH0_SC24+3_COUNTBINS26_NUMBIN25                 1\n\n[259 rows x 1 columns]",
      "text/html": "<div>\n<style scoped>\n    .dataframe tbody tr th:only-of-type {\n        vertical-align: middle;\n    }\n\n    .dataframe tbody tr th {\n        vertical-align: top;\n    }\n\n    .dataframe thead th {\n        text-align: right;\n    }\n</style>\n<table border=\"1\" class=\"dataframe\">\n  <thead>\n    <tr style=\"text-align: right;\">\n      <th></th>\n      <th>stat_significant</th>\n    </tr>\n  </thead>\n  <tbody>\n    <tr>\n      <th>WS_BGR_CH0_LH_std</th>\n      <td>1</td>\n    </tr>\n    <tr>\n      <th>WS_BGR_CH0_LH_mean</th>\n      <td>1</td>\n    </tr>\n    <tr>\n      <th>WS_BGR_CH0_HL_std</th>\n      <td>1</td>\n    </tr>\n    <tr>\n      <th>WS_BGR_CH0_HL_mean</th>\n      <td>1</td>\n    </tr>\n    <tr>\n      <th>WS_BGR_CH0_HH_std</th>\n      <td>1</td>\n    </tr>\n    <tr>\n      <th>...</th>\n      <td>...</td>\n    </tr>\n    <tr>\n      <th>LBP_GRAY_CH0_SC24+3_COUNTBINS26_NUMBIN17</th>\n      <td>1</td>\n    </tr>\n    <tr>\n      <th>LBP_GRAY_CH0_SC24+3_COUNTBINS26_NUMBIN18</th>\n      <td>1</td>\n    </tr>\n    <tr>\n      <th>LBP_GRAY_CH0_SC24+3_COUNTBINS26_NUMBIN19</th>\n      <td>1</td>\n    </tr>\n    <tr>\n      <th>LBP_GRAY_CH0_SC24+3_COUNTBINS26_NUMBIN24</th>\n      <td>1</td>\n    </tr>\n    <tr>\n      <th>LBP_GRAY_CH0_SC24+3_COUNTBINS26_NUMBIN25</th>\n      <td>1</td>\n    </tr>\n  </tbody>\n</table>\n<p>259 rows × 1 columns</p>\n</div>"
     },
     "execution_count": 17,
     "metadata": {},
     "output_type": "execute_result"
    }
   ],
   "source": [
    "stat_significant_feat = pd.DataFrame(stat_significant, columns=['stat_significant'], index=X.columns)\n",
    "stat_significant_feat[stat_significant_feat.stat_significant==1]"
   ],
   "metadata": {
    "collapsed": false,
    "pycharm": {
     "name": "#%%\n"
    }
   }
  },
  {
   "cell_type": "markdown",
   "source": [
    "Объединим таблицу с проверкой ANOVA и bootstrap, возьмем те признаки, которые показали стат. значимые различия на обоих\n",
    "проверках."
   ],
   "metadata": {
    "collapsed": false,
    "pycharm": {
     "name": "#%% md\n"
    }
   }
  },
  {
   "cell_type": "code",
   "execution_count": 18,
   "outputs": [],
   "source": [
    "union_stat_sign_feat = f_scores_data.join(stat_significant_feat, how='outer')\n",
    "union_filtered_data = union_stat_sign_feat[(union_stat_sign_feat.pval < 0.05) & (union_stat_sign_feat.stat_significant == 1)].copy()"
   ],
   "metadata": {
    "collapsed": false,
    "pycharm": {
     "name": "#%%\n"
    }
   }
  },
  {
   "cell_type": "markdown",
   "source": [
    "Таких признаков получилось 214"
   ],
   "metadata": {
    "collapsed": false,
    "pycharm": {
     "name": "#%% md\n"
    }
   }
  },
  {
   "cell_type": "code",
   "source": [
    "union_filtered_data"
   ],
   "metadata": {
    "collapsed": false,
    "pycharm": {
     "name": "#%%\n"
    }
   },
   "execution_count": 19,
   "outputs": [
    {
     "data": {
      "text/plain": "                                            f_score      pval  \\\nWS_BGR_CH0_LH_std                         13.488286  0.000309   \nWS_BGR_CH0_LH_mean                         9.488408  0.002362   \nWS_BGR_CH0_HL_std                          7.970517  0.005240   \nWS_BGR_CH0_HL_mean                         6.939006  0.009100   \nWS_BGR_CH0_HH_std                         11.300919  0.000930   \n...                                             ...       ...   \nLBP_GRAY_CH0_SC24+3_COUNTBINS26_NUMBIN8   15.479275  0.000115   \nLBP_GRAY_CH0_SC24+3_COUNTBINS26_NUMBIN9   14.745406  0.000166   \nLBP_GRAY_CH0_SC24+3_COUNTBINS26_NUMBIN17   7.536150  0.006604   \nLBP_GRAY_CH0_SC24+3_COUNTBINS26_NUMBIN18  12.051555  0.000635   \nLBP_GRAY_CH0_SC24+3_COUNTBINS26_NUMBIN19   7.282675  0.007564   \n\n                                          stat_significant  \nWS_BGR_CH0_LH_std                                        1  \nWS_BGR_CH0_LH_mean                                       1  \nWS_BGR_CH0_HL_std                                        1  \nWS_BGR_CH0_HL_mean                                       1  \nWS_BGR_CH0_HH_std                                        1  \n...                                                    ...  \nLBP_GRAY_CH0_SC24+3_COUNTBINS26_NUMBIN8                  1  \nLBP_GRAY_CH0_SC24+3_COUNTBINS26_NUMBIN9                  1  \nLBP_GRAY_CH0_SC24+3_COUNTBINS26_NUMBIN17                 1  \nLBP_GRAY_CH0_SC24+3_COUNTBINS26_NUMBIN18                 1  \nLBP_GRAY_CH0_SC24+3_COUNTBINS26_NUMBIN19                 1  \n\n[214 rows x 3 columns]",
      "text/html": "<div>\n<style scoped>\n    .dataframe tbody tr th:only-of-type {\n        vertical-align: middle;\n    }\n\n    .dataframe tbody tr th {\n        vertical-align: top;\n    }\n\n    .dataframe thead th {\n        text-align: right;\n    }\n</style>\n<table border=\"1\" class=\"dataframe\">\n  <thead>\n    <tr style=\"text-align: right;\">\n      <th></th>\n      <th>f_score</th>\n      <th>pval</th>\n      <th>stat_significant</th>\n    </tr>\n  </thead>\n  <tbody>\n    <tr>\n      <th>WS_BGR_CH0_LH_std</th>\n      <td>13.488286</td>\n      <td>0.000309</td>\n      <td>1</td>\n    </tr>\n    <tr>\n      <th>WS_BGR_CH0_LH_mean</th>\n      <td>9.488408</td>\n      <td>0.002362</td>\n      <td>1</td>\n    </tr>\n    <tr>\n      <th>WS_BGR_CH0_HL_std</th>\n      <td>7.970517</td>\n      <td>0.005240</td>\n      <td>1</td>\n    </tr>\n    <tr>\n      <th>WS_BGR_CH0_HL_mean</th>\n      <td>6.939006</td>\n      <td>0.009100</td>\n      <td>1</td>\n    </tr>\n    <tr>\n      <th>WS_BGR_CH0_HH_std</th>\n      <td>11.300919</td>\n      <td>0.000930</td>\n      <td>1</td>\n    </tr>\n    <tr>\n      <th>...</th>\n      <td>...</td>\n      <td>...</td>\n      <td>...</td>\n    </tr>\n    <tr>\n      <th>LBP_GRAY_CH0_SC24+3_COUNTBINS26_NUMBIN8</th>\n      <td>15.479275</td>\n      <td>0.000115</td>\n      <td>1</td>\n    </tr>\n    <tr>\n      <th>LBP_GRAY_CH0_SC24+3_COUNTBINS26_NUMBIN9</th>\n      <td>14.745406</td>\n      <td>0.000166</td>\n      <td>1</td>\n    </tr>\n    <tr>\n      <th>LBP_GRAY_CH0_SC24+3_COUNTBINS26_NUMBIN17</th>\n      <td>7.536150</td>\n      <td>0.006604</td>\n      <td>1</td>\n    </tr>\n    <tr>\n      <th>LBP_GRAY_CH0_SC24+3_COUNTBINS26_NUMBIN18</th>\n      <td>12.051555</td>\n      <td>0.000635</td>\n      <td>1</td>\n    </tr>\n    <tr>\n      <th>LBP_GRAY_CH0_SC24+3_COUNTBINS26_NUMBIN19</th>\n      <td>7.282675</td>\n      <td>0.007564</td>\n      <td>1</td>\n    </tr>\n  </tbody>\n</table>\n<p>214 rows × 3 columns</p>\n</div>"
     },
     "execution_count": 19,
     "metadata": {},
     "output_type": "execute_result"
    }
   ]
  },
  {
   "cell_type": "markdown",
   "source": [
    "Функция ошибки *EqualErrorRate*:"
   ],
   "metadata": {
    "collapsed": false,
    "pycharm": {
     "name": "#%% md\n"
    }
   }
  },
  {
   "cell_type": "code",
   "execution_count": 20,
   "outputs": [],
   "source": [
    "from scipy.optimize import brentq\n",
    "from scipy.interpolate import interp1d\n",
    "from sklearn.metrics import roc_curve\n",
    "\n",
    "def eer(y, y_score):\n",
    "    fpr, tpr, thresholds = roc_curve(y, y_score, pos_label=1)\n",
    "\n",
    "    eer = brentq(lambda x : 1. - x - interp1d(fpr, tpr)(x), 0., 1.)\n",
    "#   thresh = interp1d(fpr, thresholds)(eer)\n",
    "    return eer"
   ],
   "metadata": {
    "collapsed": false,
    "pycharm": {
     "name": "#%%\n"
    }
   }
  },
  {
   "cell_type": "markdown",
   "source": [
    "Обучим случайный лес на всех признаках. Обучение проводится через *RandomizedSearchCV*, который случайным образом\n",
    "выбирает параметры из возможных значений этого параметра, заданных в словаре *random_grid*, и выбирает тот набор\n",
    "параметров, который показал лучшие значения по метрике *EER*"
   ],
   "metadata": {
    "collapsed": false,
    "pycharm": {
     "name": "#%% md\n"
    }
   }
  },
  {
   "cell_type": "code",
   "execution_count": 21,
   "outputs": [],
   "source": [
    "from sklearn.ensemble import RandomForestClassifier\n",
    "from sklearn.model_selection import train_test_split, GridSearchCV, RandomizedSearchCV\n",
    "from sklearn.metrics import make_scorer\n",
    "from sklearn.tree import DecisionTreeClassifier\n",
    "eer_score = make_scorer(eer, greater_is_better=False)\n",
    "\n",
    "def random_trees_feats_range(X_data):\n",
    "    X_filtered = X_data\n",
    "    X_train, X_test, y_train, y_test = train_test_split(X_filtered, y, test_size=.3,\n",
    "                                                    random_state=42)\n",
    "\n",
    "    n_estimators = [int(x) for x in np.linspace(start = 200, stop = 2000, num = 10)]\n",
    "    max_features = ['auto', 'sqrt']\n",
    "    max_depth = [int(x) for x in np.linspace(10, 110, num = 11)]\n",
    "    max_depth.append(None)\n",
    "    min_samples_split = [2, 5, 10]\n",
    "    min_samples_leaf = [1, 2, 4]\n",
    "    bootstrap = [True, False]\n",
    "\n",
    "    random_grid = {'n_estimators': n_estimators,\n",
    "               'max_features': max_features,\n",
    "               'max_depth': max_depth,\n",
    "               'min_samples_split': min_samples_split,\n",
    "               'min_samples_leaf': min_samples_leaf,\n",
    "               'bootstrap': bootstrap}\n",
    "\n",
    "    clf = RandomForestClassifier(criterion='entropy', random_state=42)\n",
    "\n",
    "    clf_random = RandomizedSearchCV(estimator = clf, param_distributions = random_grid,\n",
    "                                n_iter = 100, cv = 5, verbose=2, random_state=42, n_jobs = -1)\n",
    "\n",
    "    clf_random.fit(X_train, y_train)\n",
    "\n",
    "    best_tree = clf_random.best_estimator_\n",
    "    y_pred = best_tree.predict_proba(X_test)\n",
    "    print('EER:', eer(y_test, y_pred[:,1]))\n",
    "    print('Best params:', best_tree.get_params)\n",
    "\n",
    "    range_feat_df = pd.DataFrame(best_tree.feature_importances_, index=X_filtered.columns, columns=['tree_feat_score']). \\\n",
    "                        sort_values(by='tree_feat_score', ascending=False)\n",
    "\n",
    "    return best_tree, range_feat_df"
   ],
   "metadata": {
    "collapsed": false,
    "pycharm": {
     "name": "#%%\n"
    }
   }
  },
  {
   "cell_type": "markdown",
   "source": [
    "Проведем ранжирование признаков для набора данных с признаками, прошедшими оба теста на стат. значимость:"
   ],
   "metadata": {
    "collapsed": false,
    "pycharm": {
     "name": "#%% md\n"
    }
   }
  },
  {
   "cell_type": "code",
   "execution_count": 22,
   "outputs": [
    {
     "name": "stdout",
     "output_type": "stream",
     "text": [
      "Fitting 5 folds for each of 100 candidates, totalling 500 fits\n",
      "EER: 0.1034482758633613\n",
      "Best params: <bound method BaseEstimator.get_params of RandomForestClassifier(criterion='entropy', max_depth=30, max_features='sqrt',\n",
      "                       min_samples_split=5, n_estimators=400, random_state=42)>\n"
     ]
    },
    {
     "name": "stderr",
     "output_type": "stream",
     "text": [
      "[Parallel(n_jobs=-1)]: Using backend LokyBackend with 12 concurrent workers.\n",
      "[Parallel(n_jobs=-1)]: Done  17 tasks      | elapsed:   13.7s\n",
      "[Parallel(n_jobs=-1)]: Done 138 tasks      | elapsed:  1.1min\n",
      "[Parallel(n_jobs=-1)]: Done 341 tasks      | elapsed:  2.4min\n",
      "[Parallel(n_jobs=-1)]: Done 500 out of 500 | elapsed:  3.3min finished\n"
     ]
    },
    {
     "data": {
      "text/plain": "                                         tree_feat_score\nLBP_YCR_CH2_SC24+3_COUNTBINS10_NUMBIN2          0.048479\nLBP_HSV_CH0_SC24+3_COUNTBINS10_NUMBIN3          0.021291\nLBP_YCR_CH1_SC24+3_COUNTBINS10_NUMBIN2          0.020787\nWS_HSV_CH1_LH_std                               0.020718\nLBP_YCR_CH1_SC24+3_COUNTBINS10_NUMBIN4          0.020227\n...                                                  ...\nLBP_GRAY_CH0_SC24+3_COUNTBINS26_NUMBIN4         0.000667\nLBP_YCR_CH0_SC24+3_COUNTBINS26_NUMBIN4          0.000667\nLBP_HSV_CH2_SC24+3_COUNTBINS10_NUMBIN4          0.000659\nLBP_HSV_CH2_SC8+1_COUNTBINS26_NUMBIN4           0.000610\nLBP_YCR_CH0_SC8+1_COUNTBINS26_NUMBIN4           0.000470\n\n[214 rows x 1 columns]",
      "text/html": "<div>\n<style scoped>\n    .dataframe tbody tr th:only-of-type {\n        vertical-align: middle;\n    }\n\n    .dataframe tbody tr th {\n        vertical-align: top;\n    }\n\n    .dataframe thead th {\n        text-align: right;\n    }\n</style>\n<table border=\"1\" class=\"dataframe\">\n  <thead>\n    <tr style=\"text-align: right;\">\n      <th></th>\n      <th>tree_feat_score</th>\n    </tr>\n  </thead>\n  <tbody>\n    <tr>\n      <th>LBP_YCR_CH2_SC24+3_COUNTBINS10_NUMBIN2</th>\n      <td>0.048479</td>\n    </tr>\n    <tr>\n      <th>LBP_HSV_CH0_SC24+3_COUNTBINS10_NUMBIN3</th>\n      <td>0.021291</td>\n    </tr>\n    <tr>\n      <th>LBP_YCR_CH1_SC24+3_COUNTBINS10_NUMBIN2</th>\n      <td>0.020787</td>\n    </tr>\n    <tr>\n      <th>WS_HSV_CH1_LH_std</th>\n      <td>0.020718</td>\n    </tr>\n    <tr>\n      <th>LBP_YCR_CH1_SC24+3_COUNTBINS10_NUMBIN4</th>\n      <td>0.020227</td>\n    </tr>\n    <tr>\n      <th>...</th>\n      <td>...</td>\n    </tr>\n    <tr>\n      <th>LBP_GRAY_CH0_SC24+3_COUNTBINS26_NUMBIN4</th>\n      <td>0.000667</td>\n    </tr>\n    <tr>\n      <th>LBP_YCR_CH0_SC24+3_COUNTBINS26_NUMBIN4</th>\n      <td>0.000667</td>\n    </tr>\n    <tr>\n      <th>LBP_HSV_CH2_SC24+3_COUNTBINS10_NUMBIN4</th>\n      <td>0.000659</td>\n    </tr>\n    <tr>\n      <th>LBP_HSV_CH2_SC8+1_COUNTBINS26_NUMBIN4</th>\n      <td>0.000610</td>\n    </tr>\n    <tr>\n      <th>LBP_YCR_CH0_SC8+1_COUNTBINS26_NUMBIN4</th>\n      <td>0.000470</td>\n    </tr>\n  </tbody>\n</table>\n<p>214 rows × 1 columns</p>\n</div>"
     },
     "execution_count": 22,
     "metadata": {},
     "output_type": "execute_result"
    }
   ],
   "source": [
    "X_filtered = X[union_filtered_data.index].copy()\n",
    "_, range_feat_union_tests = random_trees_feats_range(X_filtered)\n",
    "range_feat_union_tests"
   ],
   "metadata": {
    "collapsed": false,
    "pycharm": {
     "name": "#%%\n"
    }
   }
  },
  {
   "cell_type": "markdown",
   "source": [
    "Проведем такое же ранжирование для набора данных с признаками, прошедшими только ANOVA или только bootstrap тесты,\n",
    "и для полного набора данных"
   ],
   "metadata": {
    "collapsed": false,
    "pycharm": {
     "name": "#%% md\n"
    }
   }
  },
  {
   "cell_type": "markdown",
   "source": [
    "ANOVA:"
   ],
   "metadata": {
    "collapsed": false,
    "pycharm": {
     "name": "#%% md\n"
    }
   }
  },
  {
   "cell_type": "code",
   "source": [
    "_, range_feat_anova_test = random_trees_feats_range(X[f_scored_filtered_feat])\n",
    "range_feat_anova_test"
   ],
   "metadata": {
    "collapsed": false,
    "pycharm": {
     "name": "#%%\n"
    }
   },
   "execution_count": 23,
   "outputs": [
    {
     "name": "stdout",
     "output_type": "stream",
     "text": [
      "Fitting 5 folds for each of 100 candidates, totalling 500 fits\n",
      "EER: 0.13793103448224714\n",
      "Best params: <bound method BaseEstimator.get_params of RandomForestClassifier(bootstrap=False, criterion='entropy', max_depth=90,\n",
      "                       min_samples_leaf=2, min_samples_split=5,\n",
      "                       n_estimators=200, random_state=42)>\n"
     ]
    },
    {
     "name": "stderr",
     "output_type": "stream",
     "text": [
      "[Parallel(n_jobs=-1)]: Using backend LokyBackend with 12 concurrent workers.\n",
      "[Parallel(n_jobs=-1)]: Done  17 tasks      | elapsed:   10.1s\n",
      "[Parallel(n_jobs=-1)]: Done 138 tasks      | elapsed:  1.1min\n",
      "[Parallel(n_jobs=-1)]: Done 341 tasks      | elapsed:  2.3min\n",
      "[Parallel(n_jobs=-1)]: Done 500 out of 500 | elapsed:  3.2min finished\n"
     ]
    },
    {
     "data": {
      "text/plain": "                                         tree_feat_score\nLBP_YCR_CH2_SC24+3_COUNTBINS10_NUMBIN2          0.036403\nLBP_YCR_CH1_SC24+3_COUNTBINS10_NUMBIN2          0.030749\nLBP_YCR_CH2_SC24+3_COUNTBINS10_NUMBIN9          0.030651\nWS_HSV_CH1_LH_std                               0.022095\nWS_HSV_CH1_HH_std                               0.021177\n...                                                  ...\nWS_HSV_CH2_HH_mean                              0.000292\nLBP_BGR_CH0_SC24+3_COUNTBINS26_NUMBIN9          0.000270\nLBP_YCR_CH2_SC24+3_COUNTBINS26_NUMBIN14         0.000214\nLBP_HSV_CH1_SC8+1_COUNTBINS26_NUMBIN4           0.000182\nLBP_YCR_CH1_SC24+3_COUNTBINS26_NUMBIN6          0.000064\n\n[265 rows x 1 columns]",
      "text/html": "<div>\n<style scoped>\n    .dataframe tbody tr th:only-of-type {\n        vertical-align: middle;\n    }\n\n    .dataframe tbody tr th {\n        vertical-align: top;\n    }\n\n    .dataframe thead th {\n        text-align: right;\n    }\n</style>\n<table border=\"1\" class=\"dataframe\">\n  <thead>\n    <tr style=\"text-align: right;\">\n      <th></th>\n      <th>tree_feat_score</th>\n    </tr>\n  </thead>\n  <tbody>\n    <tr>\n      <th>LBP_YCR_CH2_SC24+3_COUNTBINS10_NUMBIN2</th>\n      <td>0.036403</td>\n    </tr>\n    <tr>\n      <th>LBP_YCR_CH1_SC24+3_COUNTBINS10_NUMBIN2</th>\n      <td>0.030749</td>\n    </tr>\n    <tr>\n      <th>LBP_YCR_CH2_SC24+3_COUNTBINS10_NUMBIN9</th>\n      <td>0.030651</td>\n    </tr>\n    <tr>\n      <th>WS_HSV_CH1_LH_std</th>\n      <td>0.022095</td>\n    </tr>\n    <tr>\n      <th>WS_HSV_CH1_HH_std</th>\n      <td>0.021177</td>\n    </tr>\n    <tr>\n      <th>...</th>\n      <td>...</td>\n    </tr>\n    <tr>\n      <th>WS_HSV_CH2_HH_mean</th>\n      <td>0.000292</td>\n    </tr>\n    <tr>\n      <th>LBP_BGR_CH0_SC24+3_COUNTBINS26_NUMBIN9</th>\n      <td>0.000270</td>\n    </tr>\n    <tr>\n      <th>LBP_YCR_CH2_SC24+3_COUNTBINS26_NUMBIN14</th>\n      <td>0.000214</td>\n    </tr>\n    <tr>\n      <th>LBP_HSV_CH1_SC8+1_COUNTBINS26_NUMBIN4</th>\n      <td>0.000182</td>\n    </tr>\n    <tr>\n      <th>LBP_YCR_CH1_SC24+3_COUNTBINS26_NUMBIN6</th>\n      <td>0.000064</td>\n    </tr>\n  </tbody>\n</table>\n<p>265 rows × 1 columns</p>\n</div>"
     },
     "execution_count": 23,
     "metadata": {},
     "output_type": "execute_result"
    }
   ]
  },
  {
   "cell_type": "markdown",
   "source": [
    "Bootstrap:"
   ],
   "metadata": {
    "collapsed": false
   }
  },
  {
   "cell_type": "code",
   "source": [
    "_, range_feat_bs_test = random_trees_feats_range(X[stat_significant_feat[stat_significant_feat.stat_significant==1].index])\n",
    "range_feat_bs_test"
   ],
   "metadata": {
    "collapsed": false,
    "pycharm": {
     "name": "#%%\n"
    }
   },
   "execution_count": 24,
   "outputs": [
    {
     "name": "stdout",
     "output_type": "stream",
     "text": [
      "Fitting 5 folds for each of 100 candidates, totalling 500 fits\n",
      "EER: 0.1290322580644908\n",
      "Best params: <bound method BaseEstimator.get_params of RandomForestClassifier(criterion='entropy', max_depth=30, max_features='sqrt',\n",
      "                       min_samples_split=5, n_estimators=400, random_state=42)>\n"
     ]
    },
    {
     "name": "stderr",
     "output_type": "stream",
     "text": [
      "[Parallel(n_jobs=-1)]: Using backend LokyBackend with 12 concurrent workers.\n",
      "[Parallel(n_jobs=-1)]: Done  17 tasks      | elapsed:    9.6s\n",
      "[Parallel(n_jobs=-1)]: Done 138 tasks      | elapsed:   58.4s\n",
      "[Parallel(n_jobs=-1)]: Done 341 tasks      | elapsed:  2.2min\n",
      "[Parallel(n_jobs=-1)]: Done 500 out of 500 | elapsed:  3.2min finished\n"
     ]
    },
    {
     "data": {
      "text/plain": "                                         tree_feat_score\nLBP_YCR_CH2_SC24+3_COUNTBINS10_NUMBIN2          0.047690\nLBP_YCR_CH1_SC24+3_COUNTBINS10_NUMBIN2          0.034488\nWS_HSV_CH1_HL_std                               0.020767\nLBP_HSV_CH0_SC24+3_COUNTBINS10_NUMBIN3          0.020015\nLBP_HSV_CH1_SC24+3_COUNTBINS10_NUMBIN8          0.019007\n...                                                  ...\nLBP_GRAY_CH0_SC24+3_COUNTBINS26_NUMBIN4         0.000435\nLBP_BGR_CH2_SC8+1_COUNTBINS26_NUMBIN4           0.000317\nLBP_HSV_CH2_SC8+1_COUNTBINS26_NUMBIN4           0.000313\nLBP_YCR_CH0_SC24+3_COUNTBINS26_NUMBIN4          0.000101\nLBP_HSV_CH2_SC8+1_COUNTBINS26_NUMBIN8           0.000000\n\n[259 rows x 1 columns]",
      "text/html": "<div>\n<style scoped>\n    .dataframe tbody tr th:only-of-type {\n        vertical-align: middle;\n    }\n\n    .dataframe tbody tr th {\n        vertical-align: top;\n    }\n\n    .dataframe thead th {\n        text-align: right;\n    }\n</style>\n<table border=\"1\" class=\"dataframe\">\n  <thead>\n    <tr style=\"text-align: right;\">\n      <th></th>\n      <th>tree_feat_score</th>\n    </tr>\n  </thead>\n  <tbody>\n    <tr>\n      <th>LBP_YCR_CH2_SC24+3_COUNTBINS10_NUMBIN2</th>\n      <td>0.047690</td>\n    </tr>\n    <tr>\n      <th>LBP_YCR_CH1_SC24+3_COUNTBINS10_NUMBIN2</th>\n      <td>0.034488</td>\n    </tr>\n    <tr>\n      <th>WS_HSV_CH1_HL_std</th>\n      <td>0.020767</td>\n    </tr>\n    <tr>\n      <th>LBP_HSV_CH0_SC24+3_COUNTBINS10_NUMBIN3</th>\n      <td>0.020015</td>\n    </tr>\n    <tr>\n      <th>LBP_HSV_CH1_SC24+3_COUNTBINS10_NUMBIN8</th>\n      <td>0.019007</td>\n    </tr>\n    <tr>\n      <th>...</th>\n      <td>...</td>\n    </tr>\n    <tr>\n      <th>LBP_GRAY_CH0_SC24+3_COUNTBINS26_NUMBIN4</th>\n      <td>0.000435</td>\n    </tr>\n    <tr>\n      <th>LBP_BGR_CH2_SC8+1_COUNTBINS26_NUMBIN4</th>\n      <td>0.000317</td>\n    </tr>\n    <tr>\n      <th>LBP_HSV_CH2_SC8+1_COUNTBINS26_NUMBIN4</th>\n      <td>0.000313</td>\n    </tr>\n    <tr>\n      <th>LBP_YCR_CH0_SC24+3_COUNTBINS26_NUMBIN4</th>\n      <td>0.000101</td>\n    </tr>\n    <tr>\n      <th>LBP_HSV_CH2_SC8+1_COUNTBINS26_NUMBIN8</th>\n      <td>0.000000</td>\n    </tr>\n  </tbody>\n</table>\n<p>259 rows × 1 columns</p>\n</div>"
     },
     "execution_count": 24,
     "metadata": {},
     "output_type": "execute_result"
    }
   ]
  },
  {
   "cell_type": "markdown",
   "source": [
    "Все признаки:"
   ],
   "metadata": {
    "collapsed": false
   }
  },
  {
   "cell_type": "code",
   "source": [
    "_, range_feat_all_test = random_trees_feats_range(X)\n",
    "range_feat_all_test"
   ],
   "metadata": {
    "collapsed": false,
    "pycharm": {
     "name": "#%%\n"
    }
   },
   "execution_count": 25,
   "outputs": [
    {
     "name": "stdout",
     "output_type": "stream",
     "text": [
      "Fitting 5 folds for each of 100 candidates, totalling 500 fits\n",
      "EER: 0.10169491525469271\n",
      "Best params: <bound method BaseEstimator.get_params of RandomForestClassifier(criterion='entropy', max_depth=50, max_features='sqrt',\n",
      "                       n_estimators=200, random_state=42)>\n"
     ]
    },
    {
     "name": "stderr",
     "output_type": "stream",
     "text": [
      "[Parallel(n_jobs=-1)]: Using backend LokyBackend with 12 concurrent workers.\n",
      "[Parallel(n_jobs=-1)]: Done  17 tasks      | elapsed:   10.8s\n",
      "[Parallel(n_jobs=-1)]: Done 138 tasks      | elapsed:  1.2min\n",
      "[Parallel(n_jobs=-1)]: Done 341 tasks      | elapsed:  2.6min\n",
      "[Parallel(n_jobs=-1)]: Done 500 out of 500 | elapsed:  3.6min finished\n"
     ]
    },
    {
     "data": {
      "text/plain": "                                        tree_feat_score\nLBP_YCR_CH2_SC24+3_COUNTBINS10_NUMBIN2         0.029489\nLBP_HSV_CH0_SC24+3_COUNTBINS10_NUMBIN3         0.026806\nLBP_YCR_CH2_SC24+3_COUNTBINS10_NUMBIN9         0.017670\nLBP_YCR_CH1_SC24+3_COUNTBINS10_NUMBIN2         0.017103\nWS_HSV_CH1_HH_std                              0.015156\n...                                                 ...\nLBP_YCR_CH0_SC8+1_COUNTBINS26_NUMBIN16         0.000000\nLBP_YCR_CH0_SC8+1_COUNTBINS26_NUMBIN17         0.000000\nLBP_YCR_CH0_SC8+1_COUNTBINS26_NUMBIN18         0.000000\nLBP_YCR_CH0_SC8+1_COUNTBINS26_NUMBIN19         0.000000\nLBP_HSV_CH2_SC8+1_COUNTBINS26_NUMBIN19         0.000000\n\n[674 rows x 1 columns]",
      "text/html": "<div>\n<style scoped>\n    .dataframe tbody tr th:only-of-type {\n        vertical-align: middle;\n    }\n\n    .dataframe tbody tr th {\n        vertical-align: top;\n    }\n\n    .dataframe thead th {\n        text-align: right;\n    }\n</style>\n<table border=\"1\" class=\"dataframe\">\n  <thead>\n    <tr style=\"text-align: right;\">\n      <th></th>\n      <th>tree_feat_score</th>\n    </tr>\n  </thead>\n  <tbody>\n    <tr>\n      <th>LBP_YCR_CH2_SC24+3_COUNTBINS10_NUMBIN2</th>\n      <td>0.029489</td>\n    </tr>\n    <tr>\n      <th>LBP_HSV_CH0_SC24+3_COUNTBINS10_NUMBIN3</th>\n      <td>0.026806</td>\n    </tr>\n    <tr>\n      <th>LBP_YCR_CH2_SC24+3_COUNTBINS10_NUMBIN9</th>\n      <td>0.017670</td>\n    </tr>\n    <tr>\n      <th>LBP_YCR_CH1_SC24+3_COUNTBINS10_NUMBIN2</th>\n      <td>0.017103</td>\n    </tr>\n    <tr>\n      <th>WS_HSV_CH1_HH_std</th>\n      <td>0.015156</td>\n    </tr>\n    <tr>\n      <th>...</th>\n      <td>...</td>\n    </tr>\n    <tr>\n      <th>LBP_YCR_CH0_SC8+1_COUNTBINS26_NUMBIN16</th>\n      <td>0.000000</td>\n    </tr>\n    <tr>\n      <th>LBP_YCR_CH0_SC8+1_COUNTBINS26_NUMBIN17</th>\n      <td>0.000000</td>\n    </tr>\n    <tr>\n      <th>LBP_YCR_CH0_SC8+1_COUNTBINS26_NUMBIN18</th>\n      <td>0.000000</td>\n    </tr>\n    <tr>\n      <th>LBP_YCR_CH0_SC8+1_COUNTBINS26_NUMBIN19</th>\n      <td>0.000000</td>\n    </tr>\n    <tr>\n      <th>LBP_HSV_CH2_SC8+1_COUNTBINS26_NUMBIN19</th>\n      <td>0.000000</td>\n    </tr>\n  </tbody>\n</table>\n<p>674 rows × 1 columns</p>\n</div>"
     },
     "execution_count": 25,
     "metadata": {},
     "output_type": "execute_result"
    }
   ]
  },
  {
   "cell_type": "markdown",
   "source": [
    "Проведем обучение классификатора логистической регрессии с регуляризатором Lasso, свойством которого является зануление\n",
    "признаков, параметры для обучения также подбираются по сетке.\n",
    "Lasso:"
   ],
   "metadata": {
    "collapsed": false
   }
  },
  {
   "cell_type": "code",
   "execution_count": 39,
   "outputs": [
    {
     "name": "stdout",
     "output_type": "stream",
     "text": [
      "EER: 0.06896551724170247\n"
     ]
    }
   ],
   "source": [
    "from sklearn.linear_model import LogisticRegression\n",
    "from sklearn.preprocessing import  StandardScaler\n",
    "import warnings\n",
    "warnings.filterwarnings('ignore')\n",
    "X_train, X_test, y_train, y_test = train_test_split(X, y, test_size=.3,\n",
    "                                                    random_state=42)\n",
    "stand_scaler = StandardScaler()\n",
    "stand_scaler.fit(X_train)\n",
    "X_stand_train = stand_scaler.transform(X_train)\n",
    "X_stand_test = stand_scaler.transform(X_test)\n",
    "log_reg = LogisticRegression(penalty='l1', random_state=0)\n",
    "params = {'solver':['liblinear',  'saga'],\n",
    "          'C': np.arange(0.1, 10.0, 0.5)}\n",
    "clf = GridSearchCV(log_reg, param_grid=params, cv=5, scoring=eer_score)\n",
    "clf.fit(X_stand_train, y_train)\n",
    "\n",
    "log_reg = clf.best_estimator_\n",
    "y_pred = log_reg.predict_proba(X_stand_test)\n",
    "print('EER:', eer(y_test, y_pred[:,1]))"
   ],
   "metadata": {
    "collapsed": false,
    "pycharm": {
     "name": "#%%\n"
    }
   }
  },
  {
   "cell_type": "markdown",
   "source": [
    "Видим, что после обучения ненулевых признаков осталось 435:"
   ],
   "metadata": {
    "collapsed": false
   }
  },
  {
   "cell_type": "code",
   "execution_count": 40,
   "outputs": [
    {
     "data": {
      "text/plain": "                                         logreg_score\nLBP_HSV_CH1_SC24+3_COUNTBINS26_NUMBIN23      0.203620\nLBP_HSV_CH1_SC24+3_COUNTBINS26_NUMBIN21      0.194898\nLBP_YCR_CH2_SC24+3_COUNTBINS26_NUMBIN7       0.172682\nLBP_YCR_CH2_SC24+3_COUNTBINS10_NUMBIN7       0.168229\nLBP_HSV_CH1_SC24+3_COUNTBINS10_NUMBIN4       0.163318\n...                                               ...\nLBP_GRAY_CH0_SC24+3_COUNTBINS10_NUMBIN8     -0.213748\nLBP_HSV_CH0_SC24+3_COUNTBINS10_NUMBIN4      -0.252724\nLBP_HSV_CH0_SC24+3_COUNTBINS10_NUMBIN3      -0.258912\nLBP_YCR_CH2_SC24+3_COUNTBINS10_NUMBIN4      -0.291524\nLBP_YCR_CH2_SC24+3_COUNTBINS10_NUMBIN2      -0.294471\n\n[435 rows x 1 columns]",
      "text/html": "<div>\n<style scoped>\n    .dataframe tbody tr th:only-of-type {\n        vertical-align: middle;\n    }\n\n    .dataframe tbody tr th {\n        vertical-align: top;\n    }\n\n    .dataframe thead th {\n        text-align: right;\n    }\n</style>\n<table border=\"1\" class=\"dataframe\">\n  <thead>\n    <tr style=\"text-align: right;\">\n      <th></th>\n      <th>logreg_score</th>\n    </tr>\n  </thead>\n  <tbody>\n    <tr>\n      <th>LBP_HSV_CH1_SC24+3_COUNTBINS26_NUMBIN23</th>\n      <td>0.203620</td>\n    </tr>\n    <tr>\n      <th>LBP_HSV_CH1_SC24+3_COUNTBINS26_NUMBIN21</th>\n      <td>0.194898</td>\n    </tr>\n    <tr>\n      <th>LBP_YCR_CH2_SC24+3_COUNTBINS26_NUMBIN7</th>\n      <td>0.172682</td>\n    </tr>\n    <tr>\n      <th>LBP_YCR_CH2_SC24+3_COUNTBINS10_NUMBIN7</th>\n      <td>0.168229</td>\n    </tr>\n    <tr>\n      <th>LBP_HSV_CH1_SC24+3_COUNTBINS10_NUMBIN4</th>\n      <td>0.163318</td>\n    </tr>\n    <tr>\n      <th>...</th>\n      <td>...</td>\n    </tr>\n    <tr>\n      <th>LBP_GRAY_CH0_SC24+3_COUNTBINS10_NUMBIN8</th>\n      <td>-0.213748</td>\n    </tr>\n    <tr>\n      <th>LBP_HSV_CH0_SC24+3_COUNTBINS10_NUMBIN4</th>\n      <td>-0.252724</td>\n    </tr>\n    <tr>\n      <th>LBP_HSV_CH0_SC24+3_COUNTBINS10_NUMBIN3</th>\n      <td>-0.258912</td>\n    </tr>\n    <tr>\n      <th>LBP_YCR_CH2_SC24+3_COUNTBINS10_NUMBIN4</th>\n      <td>-0.291524</td>\n    </tr>\n    <tr>\n      <th>LBP_YCR_CH2_SC24+3_COUNTBINS10_NUMBIN2</th>\n      <td>-0.294471</td>\n    </tr>\n  </tbody>\n</table>\n<p>435 rows × 1 columns</p>\n</div>"
     },
     "execution_count": 40,
     "metadata": {},
     "output_type": "execute_result"
    }
   ],
   "source": [
    "log_reg_feat_imp = pd.DataFrame(log_reg.coef_[0,:], index=list(X.columns), columns=['logreg_score'])\n",
    "log_reg_feat_imp[log_reg_feat_imp.logreg_score!=0].sort_values(by='logreg_score',ascending=False)"
   ],
   "metadata": {
    "collapsed": false,
    "pycharm": {
     "name": "#%%\n"
    }
   }
  },
  {
   "cell_type": "markdown",
   "source": [
    "Составим общую таблицу для всех признаков, в которой в столбцах будут наименования значений значимости признаков для\n",
    "каждого из использованных методов:"
   ],
   "metadata": {
    "collapsed": false
   }
  },
  {
   "cell_type": "code",
   "execution_count": 41,
   "outputs": [],
   "source": [
    "range_feat_table = range_feat_all_test.rename(columns={'tree_feat_score':'tree_all_feat_score'}). \\\n",
    "                    join([range_feat_union_tests.rename(columns={'tree_feat_score':'tree_union_feat_score'}),\n",
    "                          range_feat_anova_test.rename(columns={'tree_feat_score':'tree_anova_feat_score'}),\n",
    "                          range_feat_bs_test.rename(columns={'tree_feat_score':'tree_bs_feat_score'}),\n",
    "                          log_reg_feat_imp], how='outer').copy()\n"
   ],
   "metadata": {
    "collapsed": false,
    "pycharm": {
     "name": "#%%\n"
    }
   }
  },
  {
   "cell_type": "code",
   "execution_count": 42,
   "outputs": [
    {
     "data": {
      "text/plain": "                                feat_name  tree_all_feat_score  \\\n0  LBP_YCR_CH2_SC24+3_COUNTBINS10_NUMBIN2             0.029489   \n1  LBP_HSV_CH0_SC24+3_COUNTBINS10_NUMBIN3             0.026806   \n2  LBP_YCR_CH2_SC24+3_COUNTBINS10_NUMBIN9             0.017670   \n3  LBP_YCR_CH1_SC24+3_COUNTBINS10_NUMBIN2             0.017103   \n4                       WS_HSV_CH1_HH_std             0.015156   \n\n   tree_union_feat_score  tree_anova_feat_score  tree_bs_feat_score  \\\n0               0.048479               0.036403            0.047690   \n1               0.021291               0.020208            0.020015   \n2               0.016579               0.030651            0.014707   \n3               0.020787               0.030749            0.034488   \n4               0.010267               0.021177            0.016935   \n\n   logreg_score  \n0     -0.294471  \n1     -0.258912  \n2      0.157594  \n3     -0.126870  \n4      0.153191  ",
      "text/html": "<div>\n<style scoped>\n    .dataframe tbody tr th:only-of-type {\n        vertical-align: middle;\n    }\n\n    .dataframe tbody tr th {\n        vertical-align: top;\n    }\n\n    .dataframe thead th {\n        text-align: right;\n    }\n</style>\n<table border=\"1\" class=\"dataframe\">\n  <thead>\n    <tr style=\"text-align: right;\">\n      <th></th>\n      <th>feat_name</th>\n      <th>tree_all_feat_score</th>\n      <th>tree_union_feat_score</th>\n      <th>tree_anova_feat_score</th>\n      <th>tree_bs_feat_score</th>\n      <th>logreg_score</th>\n    </tr>\n  </thead>\n  <tbody>\n    <tr>\n      <th>0</th>\n      <td>LBP_YCR_CH2_SC24+3_COUNTBINS10_NUMBIN2</td>\n      <td>0.029489</td>\n      <td>0.048479</td>\n      <td>0.036403</td>\n      <td>0.047690</td>\n      <td>-0.294471</td>\n    </tr>\n    <tr>\n      <th>1</th>\n      <td>LBP_HSV_CH0_SC24+3_COUNTBINS10_NUMBIN3</td>\n      <td>0.026806</td>\n      <td>0.021291</td>\n      <td>0.020208</td>\n      <td>0.020015</td>\n      <td>-0.258912</td>\n    </tr>\n    <tr>\n      <th>2</th>\n      <td>LBP_YCR_CH2_SC24+3_COUNTBINS10_NUMBIN9</td>\n      <td>0.017670</td>\n      <td>0.016579</td>\n      <td>0.030651</td>\n      <td>0.014707</td>\n      <td>0.157594</td>\n    </tr>\n    <tr>\n      <th>3</th>\n      <td>LBP_YCR_CH1_SC24+3_COUNTBINS10_NUMBIN2</td>\n      <td>0.017103</td>\n      <td>0.020787</td>\n      <td>0.030749</td>\n      <td>0.034488</td>\n      <td>-0.126870</td>\n    </tr>\n    <tr>\n      <th>4</th>\n      <td>WS_HSV_CH1_HH_std</td>\n      <td>0.015156</td>\n      <td>0.010267</td>\n      <td>0.021177</td>\n      <td>0.016935</td>\n      <td>0.153191</td>\n    </tr>\n  </tbody>\n</table>\n</div>"
     },
     "execution_count": 42,
     "metadata": {},
     "output_type": "execute_result"
    }
   ],
   "source": [
    "range_feat_table = range_feat_table.reset_index().rename(columns={'index': 'feat_name'})\n",
    "range_feat_table.head()"
   ],
   "metadata": {
    "collapsed": false,
    "pycharm": {
     "name": "#%%\n"
    }
   }
  },
  {
   "cell_type": "markdown",
   "source": [
    "Пропущенные значения будут соответствовать 0:"
   ],
   "metadata": {
    "collapsed": false,
    "pycharm": {
     "name": "#%% md\n"
    }
   }
  },
  {
   "cell_type": "code",
   "execution_count": 43,
   "outputs": [],
   "source": [
    "range_feat_table.fillna(0, inplace=True)"
   ],
   "metadata": {
    "collapsed": false,
    "pycharm": {
     "name": "#%%\n"
    }
   }
  },
  {
   "cell_type": "markdown",
   "source": [
    "Распарсим названия признаков, чтобы можно было группировать их по цветовой модели, дескриптору и т. д. :"
   ],
   "metadata": {
    "collapsed": false
   }
  },
  {
   "cell_type": "code",
   "execution_count": 44,
   "outputs": [],
   "source": [
    "range_feat_table['logreg_score'] = np.abs(range_feat_table.logreg_score)\n",
    "\n",
    "range_feat_table['descriptor'] = range_feat_table['feat_name'].apply(lambda x: x.split('_')[0])\n",
    "\n",
    "range_feat_table['color_map'] = range_feat_table['feat_name'].apply(lambda x: x.split('_')[1])\n",
    "\n",
    "range_feat_table['color_channel'] = range_feat_table['feat_name'].apply(lambda x: x.split('_')[2])\n",
    "\n",
    "range_feat_table['desc_params_lvl1'] = range_feat_table['feat_name'].apply(lambda x: x.split('_')[3])\n",
    "\n",
    "range_feat_table['desc_params_lvl2'] = range_feat_table['feat_name'].apply(lambda x: x.split('_')[4])\n"
   ],
   "metadata": {
    "collapsed": false,
    "pycharm": {
     "name": "#%%\n"
    }
   }
  },
  {
   "cell_type": "code",
   "execution_count": 45,
   "outputs": [
    {
     "data": {
      "text/plain": "                                feat_name  tree_all_feat_score  \\\n0  LBP_YCR_CH2_SC24+3_COUNTBINS10_NUMBIN2             0.029489   \n1  LBP_HSV_CH0_SC24+3_COUNTBINS10_NUMBIN3             0.026806   \n2  LBP_YCR_CH2_SC24+3_COUNTBINS10_NUMBIN9             0.017670   \n3  LBP_YCR_CH1_SC24+3_COUNTBINS10_NUMBIN2             0.017103   \n4                       WS_HSV_CH1_HH_std             0.015156   \n\n   tree_union_feat_score  tree_anova_feat_score  tree_bs_feat_score  \\\n0               0.048479               0.036403            0.047690   \n1               0.021291               0.020208            0.020015   \n2               0.016579               0.030651            0.014707   \n3               0.020787               0.030749            0.034488   \n4               0.010267               0.021177            0.016935   \n\n   logreg_score descriptor color_map color_channel desc_params_lvl1  \\\n0      0.294471        LBP       YCR           CH2           SC24+3   \n1      0.258912        LBP       HSV           CH0           SC24+3   \n2      0.157594        LBP       YCR           CH2           SC24+3   \n3      0.126870        LBP       YCR           CH1           SC24+3   \n4      0.153191         WS       HSV           CH1               HH   \n\n  desc_params_lvl2 desc_params_lvl3  \n0      COUNTBINS10          NUMBIN2  \n1      COUNTBINS10          NUMBIN3  \n2      COUNTBINS10          NUMBIN9  \n3      COUNTBINS10          NUMBIN2  \n4              std              NaN  ",
      "text/html": "<div>\n<style scoped>\n    .dataframe tbody tr th:only-of-type {\n        vertical-align: middle;\n    }\n\n    .dataframe tbody tr th {\n        vertical-align: top;\n    }\n\n    .dataframe thead th {\n        text-align: right;\n    }\n</style>\n<table border=\"1\" class=\"dataframe\">\n  <thead>\n    <tr style=\"text-align: right;\">\n      <th></th>\n      <th>feat_name</th>\n      <th>tree_all_feat_score</th>\n      <th>tree_union_feat_score</th>\n      <th>tree_anova_feat_score</th>\n      <th>tree_bs_feat_score</th>\n      <th>logreg_score</th>\n      <th>descriptor</th>\n      <th>color_map</th>\n      <th>color_channel</th>\n      <th>desc_params_lvl1</th>\n      <th>desc_params_lvl2</th>\n      <th>desc_params_lvl3</th>\n    </tr>\n  </thead>\n  <tbody>\n    <tr>\n      <th>0</th>\n      <td>LBP_YCR_CH2_SC24+3_COUNTBINS10_NUMBIN2</td>\n      <td>0.029489</td>\n      <td>0.048479</td>\n      <td>0.036403</td>\n      <td>0.047690</td>\n      <td>0.294471</td>\n      <td>LBP</td>\n      <td>YCR</td>\n      <td>CH2</td>\n      <td>SC24+3</td>\n      <td>COUNTBINS10</td>\n      <td>NUMBIN2</td>\n    </tr>\n    <tr>\n      <th>1</th>\n      <td>LBP_HSV_CH0_SC24+3_COUNTBINS10_NUMBIN3</td>\n      <td>0.026806</td>\n      <td>0.021291</td>\n      <td>0.020208</td>\n      <td>0.020015</td>\n      <td>0.258912</td>\n      <td>LBP</td>\n      <td>HSV</td>\n      <td>CH0</td>\n      <td>SC24+3</td>\n      <td>COUNTBINS10</td>\n      <td>NUMBIN3</td>\n    </tr>\n    <tr>\n      <th>2</th>\n      <td>LBP_YCR_CH2_SC24+3_COUNTBINS10_NUMBIN9</td>\n      <td>0.017670</td>\n      <td>0.016579</td>\n      <td>0.030651</td>\n      <td>0.014707</td>\n      <td>0.157594</td>\n      <td>LBP</td>\n      <td>YCR</td>\n      <td>CH2</td>\n      <td>SC24+3</td>\n      <td>COUNTBINS10</td>\n      <td>NUMBIN9</td>\n    </tr>\n    <tr>\n      <th>3</th>\n      <td>LBP_YCR_CH1_SC24+3_COUNTBINS10_NUMBIN2</td>\n      <td>0.017103</td>\n      <td>0.020787</td>\n      <td>0.030749</td>\n      <td>0.034488</td>\n      <td>0.126870</td>\n      <td>LBP</td>\n      <td>YCR</td>\n      <td>CH1</td>\n      <td>SC24+3</td>\n      <td>COUNTBINS10</td>\n      <td>NUMBIN2</td>\n    </tr>\n    <tr>\n      <th>4</th>\n      <td>WS_HSV_CH1_HH_std</td>\n      <td>0.015156</td>\n      <td>0.010267</td>\n      <td>0.021177</td>\n      <td>0.016935</td>\n      <td>0.153191</td>\n      <td>WS</td>\n      <td>HSV</td>\n      <td>CH1</td>\n      <td>HH</td>\n      <td>std</td>\n      <td>NaN</td>\n    </tr>\n  </tbody>\n</table>\n</div>"
     },
     "execution_count": 45,
     "metadata": {},
     "output_type": "execute_result"
    }
   ],
   "source": [
    "def get_nbins(feat_name):\n",
    "    try:\n",
    "        return feat_name.split('_')[5]\n",
    "    except:\n",
    "        return np.NaN\n",
    "range_feat_table['desc_params_lvl3'] = range_feat_table['feat_name'].apply(lambda x: get_nbins(x))\n",
    "range_feat_table.head()"
   ],
   "metadata": {
    "collapsed": false,
    "pycharm": {
     "name": "#%%\n"
    }
   }
  },
  {
   "cell_type": "markdown",
   "source": [
    "Посмотрим на средние значения скоров для признаков в зависимости от их дескриптора:"
   ],
   "metadata": {
    "collapsed": false
   }
  },
  {
   "cell_type": "code",
   "execution_count": 46,
   "outputs": [
    {
     "data": {
      "text/plain": "            tree_all_feat_score  tree_union_feat_score  tree_anova_feat_score  \\\ndescriptor                                                                      \nLBP                    0.001330               0.001242               0.001282   \nWS                     0.003243               0.004263               0.003801   \n\n            tree_bs_feat_score  logreg_score  \ndescriptor                                    \nLBP                   0.001254      0.034473  \nWS                    0.004115      0.052401  ",
      "text/html": "<div>\n<style scoped>\n    .dataframe tbody tr th:only-of-type {\n        vertical-align: middle;\n    }\n\n    .dataframe tbody tr th {\n        vertical-align: top;\n    }\n\n    .dataframe thead th {\n        text-align: right;\n    }\n</style>\n<table border=\"1\" class=\"dataframe\">\n  <thead>\n    <tr style=\"text-align: right;\">\n      <th></th>\n      <th>tree_all_feat_score</th>\n      <th>tree_union_feat_score</th>\n      <th>tree_anova_feat_score</th>\n      <th>tree_bs_feat_score</th>\n      <th>logreg_score</th>\n    </tr>\n    <tr>\n      <th>descriptor</th>\n      <th></th>\n      <th></th>\n      <th></th>\n      <th></th>\n      <th></th>\n    </tr>\n  </thead>\n  <tbody>\n    <tr>\n      <th>LBP</th>\n      <td>0.001330</td>\n      <td>0.001242</td>\n      <td>0.001282</td>\n      <td>0.001254</td>\n      <td>0.034473</td>\n    </tr>\n    <tr>\n      <th>WS</th>\n      <td>0.003243</td>\n      <td>0.004263</td>\n      <td>0.003801</td>\n      <td>0.004115</td>\n      <td>0.052401</td>\n    </tr>\n  </tbody>\n</table>\n</div>"
     },
     "execution_count": 46,
     "metadata": {},
     "output_type": "execute_result"
    }
   ],
   "source": [
    "res_table1=range_feat_table.groupby(['descriptor']).agg(np.mean).copy()\n",
    "res_table1.to_excel(\"descriptor.xlsx\",\n",
    "             sheet_name='Sheet_name_1')\n",
    "res_table1"
   ],
   "metadata": {
    "collapsed": false,
    "pycharm": {
     "name": "#%%\n"
    }
   }
  },
  {
   "cell_type": "markdown",
   "source": [
    "Можно заметить, что в среднем вейвлет статистики имеют большее значение значимости, но следует\n",
    "учитывать, что при расчете среднего LBP дескриптора учитывались значения каждого бина гистограммы, хотя\n",
    "далеко не каждый из них имеет высокое значение значимости.\n",
    "\n",
    "Посмотрим на средние значения в зависимости от цветовой модели признаков:"
   ],
   "metadata": {
    "collapsed": false
   }
  },
  {
   "cell_type": "code",
   "execution_count": 48,
   "outputs": [
    {
     "data": {
      "text/plain": "           tree_all_feat_score  tree_union_feat_score  tree_anova_feat_score  \\\ncolor_map                                                                      \nBGR                   0.001062               0.001017               0.000929   \nGRAY                  0.000954               0.000845               0.000827   \nHSV                   0.001784               0.001725               0.001811   \nYCR                   0.001766               0.001904               0.001910   \n\n           tree_bs_feat_score  logreg_score  \ncolor_map                                    \nBGR                  0.001050      0.027848  \nGRAY                 0.000965      0.031512  \nHSV                  0.001744      0.041560  \nYCR                  0.001816      0.039656  ",
      "text/html": "<div>\n<style scoped>\n    .dataframe tbody tr th:only-of-type {\n        vertical-align: middle;\n    }\n\n    .dataframe tbody tr th {\n        vertical-align: top;\n    }\n\n    .dataframe thead th {\n        text-align: right;\n    }\n</style>\n<table border=\"1\" class=\"dataframe\">\n  <thead>\n    <tr style=\"text-align: right;\">\n      <th></th>\n      <th>tree_all_feat_score</th>\n      <th>tree_union_feat_score</th>\n      <th>tree_anova_feat_score</th>\n      <th>tree_bs_feat_score</th>\n      <th>logreg_score</th>\n    </tr>\n    <tr>\n      <th>color_map</th>\n      <th></th>\n      <th></th>\n      <th></th>\n      <th></th>\n      <th></th>\n    </tr>\n  </thead>\n  <tbody>\n    <tr>\n      <th>BGR</th>\n      <td>0.001062</td>\n      <td>0.001017</td>\n      <td>0.000929</td>\n      <td>0.001050</td>\n      <td>0.027848</td>\n    </tr>\n    <tr>\n      <th>GRAY</th>\n      <td>0.000954</td>\n      <td>0.000845</td>\n      <td>0.000827</td>\n      <td>0.000965</td>\n      <td>0.031512</td>\n    </tr>\n    <tr>\n      <th>HSV</th>\n      <td>0.001784</td>\n      <td>0.001725</td>\n      <td>0.001811</td>\n      <td>0.001744</td>\n      <td>0.041560</td>\n    </tr>\n    <tr>\n      <th>YCR</th>\n      <td>0.001766</td>\n      <td>0.001904</td>\n      <td>0.001910</td>\n      <td>0.001816</td>\n      <td>0.039656</td>\n    </tr>\n  </tbody>\n</table>\n</div>"
     },
     "execution_count": 48,
     "metadata": {},
     "output_type": "execute_result"
    }
   ],
   "source": [
    "res_table2=range_feat_table.groupby(['color_map']).agg(np.mean).copy()\n",
    "res_table2.to_excel(\"color_map.xlsx\",\n",
    "             sheet_name='Sheet_name_1')\n",
    "res_table2"
   ],
   "metadata": {
    "collapsed": false,
    "pycharm": {
     "name": "#%%\n"
    }
   }
  },
  {
   "cell_type": "markdown",
   "source": [
    "В среднем наиболее значимыми оказали признаки на основе цветовых пространст HSV и YCrCb.\n",
    "\n",
    "Посмотрим, на уровни значимости для каждого канала каждой из цветовых моделей признаков:"
   ],
   "metadata": {
    "collapsed": false
   }
  },
  {
   "cell_type": "code",
   "execution_count": 49,
   "outputs": [
    {
     "data": {
      "text/plain": "                         tree_all_feat_score  tree_union_feat_score  \\\ncolor_map color_channel                                               \nBGR       CH0                       0.001029               0.000919   \n          CH1                       0.001150               0.001185   \n          CH2                       0.001008               0.000946   \nGRAY      CH0                       0.000954               0.000845   \nHSV       CH0                       0.001559               0.001249   \n          CH1                       0.002490               0.003055   \n          CH2                       0.001302               0.000870   \nYCR       CH0                       0.001530               0.001116   \n          CH1                       0.001366               0.001486   \n          CH2                       0.002402               0.003111   \n\n                         tree_anova_feat_score  tree_bs_feat_score  \\\ncolor_map color_channel                                              \nBGR       CH0                         0.000881            0.000841   \n          CH1                         0.001033            0.001310   \n          CH2                         0.000874            0.000998   \nGRAY      CH0                         0.000827            0.000965   \nHSV       CH0                         0.001261            0.001132   \n          CH1                         0.003187            0.003058   \n          CH2                         0.000985            0.001041   \nYCR       CH0                         0.001205            0.001019   \n          CH1                         0.001501            0.001517   \n          CH2                         0.003024            0.002910   \n\n                         logreg_score  \ncolor_map color_channel                \nBGR       CH0                0.024963  \n          CH1                0.032577  \n          CH2                0.026005  \nGRAY      CH0                0.031512  \nHSV       CH0                0.036136  \n          CH1                0.061612  \n          CH2                0.026932  \nYCR       CH0                0.028362  \n          CH1                0.028814  \n          CH2                0.061792  ",
      "text/html": "<div>\n<style scoped>\n    .dataframe tbody tr th:only-of-type {\n        vertical-align: middle;\n    }\n\n    .dataframe tbody tr th {\n        vertical-align: top;\n    }\n\n    .dataframe thead th {\n        text-align: right;\n    }\n</style>\n<table border=\"1\" class=\"dataframe\">\n  <thead>\n    <tr style=\"text-align: right;\">\n      <th></th>\n      <th></th>\n      <th>tree_all_feat_score</th>\n      <th>tree_union_feat_score</th>\n      <th>tree_anova_feat_score</th>\n      <th>tree_bs_feat_score</th>\n      <th>logreg_score</th>\n    </tr>\n    <tr>\n      <th>color_map</th>\n      <th>color_channel</th>\n      <th></th>\n      <th></th>\n      <th></th>\n      <th></th>\n      <th></th>\n    </tr>\n  </thead>\n  <tbody>\n    <tr>\n      <th rowspan=\"3\" valign=\"top\">BGR</th>\n      <th>CH0</th>\n      <td>0.001029</td>\n      <td>0.000919</td>\n      <td>0.000881</td>\n      <td>0.000841</td>\n      <td>0.024963</td>\n    </tr>\n    <tr>\n      <th>CH1</th>\n      <td>0.001150</td>\n      <td>0.001185</td>\n      <td>0.001033</td>\n      <td>0.001310</td>\n      <td>0.032577</td>\n    </tr>\n    <tr>\n      <th>CH2</th>\n      <td>0.001008</td>\n      <td>0.000946</td>\n      <td>0.000874</td>\n      <td>0.000998</td>\n      <td>0.026005</td>\n    </tr>\n    <tr>\n      <th>GRAY</th>\n      <th>CH0</th>\n      <td>0.000954</td>\n      <td>0.000845</td>\n      <td>0.000827</td>\n      <td>0.000965</td>\n      <td>0.031512</td>\n    </tr>\n    <tr>\n      <th rowspan=\"3\" valign=\"top\">HSV</th>\n      <th>CH0</th>\n      <td>0.001559</td>\n      <td>0.001249</td>\n      <td>0.001261</td>\n      <td>0.001132</td>\n      <td>0.036136</td>\n    </tr>\n    <tr>\n      <th>CH1</th>\n      <td>0.002490</td>\n      <td>0.003055</td>\n      <td>0.003187</td>\n      <td>0.003058</td>\n      <td>0.061612</td>\n    </tr>\n    <tr>\n      <th>CH2</th>\n      <td>0.001302</td>\n      <td>0.000870</td>\n      <td>0.000985</td>\n      <td>0.001041</td>\n      <td>0.026932</td>\n    </tr>\n    <tr>\n      <th rowspan=\"3\" valign=\"top\">YCR</th>\n      <th>CH0</th>\n      <td>0.001530</td>\n      <td>0.001116</td>\n      <td>0.001205</td>\n      <td>0.001019</td>\n      <td>0.028362</td>\n    </tr>\n    <tr>\n      <th>CH1</th>\n      <td>0.001366</td>\n      <td>0.001486</td>\n      <td>0.001501</td>\n      <td>0.001517</td>\n      <td>0.028814</td>\n    </tr>\n    <tr>\n      <th>CH2</th>\n      <td>0.002402</td>\n      <td>0.003111</td>\n      <td>0.003024</td>\n      <td>0.002910</td>\n      <td>0.061792</td>\n    </tr>\n  </tbody>\n</table>\n</div>"
     },
     "execution_count": 49,
     "metadata": {},
     "output_type": "execute_result"
    }
   ],
   "source": [
    "res_table3=range_feat_table.groupby(['color_map','color_channel']).agg(np.mean).copy()\n",
    "res_table3.to_excel(\"color_map_channel.xlsx\",\n",
    "             sheet_name='Sheet_name_1')\n",
    "res_table3"
   ],
   "metadata": {
    "collapsed": false,
    "pycharm": {
     "name": "#%%\n"
    }
   }
  },
  {
   "cell_type": "markdown",
   "source": [
    "В среднем наиболее значимыми оказались признаки каналов Saturation (Насыщенность) для HSV и\n",
    "Cb (Синия цветоразностная компонента) для YCrCb\n",
    "\n",
    "Посмотрим, какие параметры дескрипторов оказались наиболее значимыми:"
   ],
   "metadata": {
    "collapsed": false
   }
  },
  {
   "cell_type": "code",
   "execution_count": 50,
   "outputs": [
    {
     "data": {
      "text/plain": "                             tree_all_feat_score  tree_union_feat_score  \\\ndescriptor desc_params_lvl1                                               \nLBP        SC24+3                       0.001923               0.001817   \n           SC8+1                        0.000510               0.000445   \nWS         HH                           0.003760               0.003966   \n           HL                           0.002687               0.003768   \n           LH                           0.003283               0.005055   \n\n                             tree_anova_feat_score  tree_bs_feat_score  \\\ndescriptor desc_params_lvl1                                              \nLBP        SC24+3                         0.001880            0.001852   \n           SC8+1                          0.000453            0.000427   \nWS         HH                             0.003599            0.004019   \n           HL                             0.003193            0.004245   \n           LH                             0.004610            0.004083   \n\n                             logreg_score  \ndescriptor desc_params_lvl1                \nLBP        SC24+3                0.048969  \n           SC8+1                 0.014402  \nWS         HH                    0.033344  \n           HL                    0.076793  \n           LH                    0.047066  ",
      "text/html": "<div>\n<style scoped>\n    .dataframe tbody tr th:only-of-type {\n        vertical-align: middle;\n    }\n\n    .dataframe tbody tr th {\n        vertical-align: top;\n    }\n\n    .dataframe thead th {\n        text-align: right;\n    }\n</style>\n<table border=\"1\" class=\"dataframe\">\n  <thead>\n    <tr style=\"text-align: right;\">\n      <th></th>\n      <th></th>\n      <th>tree_all_feat_score</th>\n      <th>tree_union_feat_score</th>\n      <th>tree_anova_feat_score</th>\n      <th>tree_bs_feat_score</th>\n      <th>logreg_score</th>\n    </tr>\n    <tr>\n      <th>descriptor</th>\n      <th>desc_params_lvl1</th>\n      <th></th>\n      <th></th>\n      <th></th>\n      <th></th>\n      <th></th>\n    </tr>\n  </thead>\n  <tbody>\n    <tr>\n      <th rowspan=\"2\" valign=\"top\">LBP</th>\n      <th>SC24+3</th>\n      <td>0.001923</td>\n      <td>0.001817</td>\n      <td>0.001880</td>\n      <td>0.001852</td>\n      <td>0.048969</td>\n    </tr>\n    <tr>\n      <th>SC8+1</th>\n      <td>0.000510</td>\n      <td>0.000445</td>\n      <td>0.000453</td>\n      <td>0.000427</td>\n      <td>0.014402</td>\n    </tr>\n    <tr>\n      <th rowspan=\"3\" valign=\"top\">WS</th>\n      <th>HH</th>\n      <td>0.003760</td>\n      <td>0.003966</td>\n      <td>0.003599</td>\n      <td>0.004019</td>\n      <td>0.033344</td>\n    </tr>\n    <tr>\n      <th>HL</th>\n      <td>0.002687</td>\n      <td>0.003768</td>\n      <td>0.003193</td>\n      <td>0.004245</td>\n      <td>0.076793</td>\n    </tr>\n    <tr>\n      <th>LH</th>\n      <td>0.003283</td>\n      <td>0.005055</td>\n      <td>0.004610</td>\n      <td>0.004083</td>\n      <td>0.047066</td>\n    </tr>\n  </tbody>\n</table>\n</div>"
     },
     "execution_count": 50,
     "metadata": {},
     "output_type": "execute_result"
    }
   ],
   "source": [
    "res_table4=range_feat_table.groupby(['descriptor','desc_params_lvl1']).agg(np.mean).copy()\n",
    "res_table4.to_excel(\"desc_params_lvl1.xlsx\",\n",
    "             sheet_name='Sheet_name_1')\n",
    "res_table4"
   ],
   "metadata": {
    "collapsed": false,
    "pycharm": {
     "name": "#%%\n"
    }
   }
  },
  {
   "cell_type": "markdown",
   "source": [
    "Видим, что для LBP дескриптора параметры радиуса=3 и кол-ва точек=24 демонстрируют более высокие результаты.\n",
    "Для вейвлет статистик более информативным оказалась горизонтальная высокочастотная компонента."
   ],
   "metadata": {
    "collapsed": false
   }
  },
  {
   "cell_type": "code",
   "execution_count": 51,
   "outputs": [
    {
     "data": {
      "text/plain": "                                              tree_all_feat_score  \\\ndescriptor desc_params_lvl1 desc_params_lvl2                        \nLBP        SC24+3           COUNTBINS10                  0.003843   \n                            COUNTBINS26                  0.001185   \n           SC8+1            COUNTBINS26                  0.000510   \nWS         HH               mean                         0.001726   \n                            std                          0.005794   \n           HL               mean                         0.001790   \n                            std                          0.003584   \n           LH               mean                         0.002444   \n                            std                          0.004121   \n\n                                              tree_union_feat_score  \\\ndescriptor desc_params_lvl1 desc_params_lvl2                          \nLBP        SC24+3           COUNTBINS10                    0.003943   \n                            COUNTBINS26                    0.000999   \n           SC8+1            COUNTBINS26                    0.000445   \nWS         HH               mean                           0.002048   \n                            std                            0.005883   \n           HL               mean                           0.002767   \n                            std                            0.004769   \n           LH               mean                           0.003085   \n                            std                            0.007025   \n\n                                              tree_anova_feat_score  \\\ndescriptor desc_params_lvl1 desc_params_lvl2                          \nLBP        SC24+3           COUNTBINS10                    0.004096   \n                            COUNTBINS26                    0.001028   \n           SC8+1            COUNTBINS26                    0.000453   \nWS         HH               mean                           0.001264   \n                            std                            0.005935   \n           HL               mean                           0.001933   \n                            std                            0.004453   \n           LH               mean                           0.002266   \n                            std                            0.006954   \n\n                                              tree_bs_feat_score  logreg_score  \ndescriptor desc_params_lvl1 desc_params_lvl2                                    \nLBP        SC24+3           COUNTBINS10                 0.004218      0.069065  \n                            COUNTBINS26                 0.000942      0.041239  \n           SC8+1            COUNTBINS26                 0.000427      0.014402  \nWS         HH               mean                        0.001691      0.025102  \n                            std                         0.006347      0.041586  \n           HL               mean                        0.002663      0.081367  \n                            std                         0.005826      0.072219  \n           LH               mean                        0.002972      0.024787  \n                            std                         0.005193      0.069345  ",
      "text/html": "<div>\n<style scoped>\n    .dataframe tbody tr th:only-of-type {\n        vertical-align: middle;\n    }\n\n    .dataframe tbody tr th {\n        vertical-align: top;\n    }\n\n    .dataframe thead th {\n        text-align: right;\n    }\n</style>\n<table border=\"1\" class=\"dataframe\">\n  <thead>\n    <tr style=\"text-align: right;\">\n      <th></th>\n      <th></th>\n      <th></th>\n      <th>tree_all_feat_score</th>\n      <th>tree_union_feat_score</th>\n      <th>tree_anova_feat_score</th>\n      <th>tree_bs_feat_score</th>\n      <th>logreg_score</th>\n    </tr>\n    <tr>\n      <th>descriptor</th>\n      <th>desc_params_lvl1</th>\n      <th>desc_params_lvl2</th>\n      <th></th>\n      <th></th>\n      <th></th>\n      <th></th>\n      <th></th>\n    </tr>\n  </thead>\n  <tbody>\n    <tr>\n      <th rowspan=\"3\" valign=\"top\">LBP</th>\n      <th rowspan=\"2\" valign=\"top\">SC24+3</th>\n      <th>COUNTBINS10</th>\n      <td>0.003843</td>\n      <td>0.003943</td>\n      <td>0.004096</td>\n      <td>0.004218</td>\n      <td>0.069065</td>\n    </tr>\n    <tr>\n      <th>COUNTBINS26</th>\n      <td>0.001185</td>\n      <td>0.000999</td>\n      <td>0.001028</td>\n      <td>0.000942</td>\n      <td>0.041239</td>\n    </tr>\n    <tr>\n      <th>SC8+1</th>\n      <th>COUNTBINS26</th>\n      <td>0.000510</td>\n      <td>0.000445</td>\n      <td>0.000453</td>\n      <td>0.000427</td>\n      <td>0.014402</td>\n    </tr>\n    <tr>\n      <th rowspan=\"6\" valign=\"top\">WS</th>\n      <th rowspan=\"2\" valign=\"top\">HH</th>\n      <th>mean</th>\n      <td>0.001726</td>\n      <td>0.002048</td>\n      <td>0.001264</td>\n      <td>0.001691</td>\n      <td>0.025102</td>\n    </tr>\n    <tr>\n      <th>std</th>\n      <td>0.005794</td>\n      <td>0.005883</td>\n      <td>0.005935</td>\n      <td>0.006347</td>\n      <td>0.041586</td>\n    </tr>\n    <tr>\n      <th rowspan=\"2\" valign=\"top\">HL</th>\n      <th>mean</th>\n      <td>0.001790</td>\n      <td>0.002767</td>\n      <td>0.001933</td>\n      <td>0.002663</td>\n      <td>0.081367</td>\n    </tr>\n    <tr>\n      <th>std</th>\n      <td>0.003584</td>\n      <td>0.004769</td>\n      <td>0.004453</td>\n      <td>0.005826</td>\n      <td>0.072219</td>\n    </tr>\n    <tr>\n      <th rowspan=\"2\" valign=\"top\">LH</th>\n      <th>mean</th>\n      <td>0.002444</td>\n      <td>0.003085</td>\n      <td>0.002266</td>\n      <td>0.002972</td>\n      <td>0.024787</td>\n    </tr>\n    <tr>\n      <th>std</th>\n      <td>0.004121</td>\n      <td>0.007025</td>\n      <td>0.006954</td>\n      <td>0.005193</td>\n      <td>0.069345</td>\n    </tr>\n  </tbody>\n</table>\n</div>"
     },
     "execution_count": 51,
     "metadata": {},
     "output_type": "execute_result"
    }
   ],
   "source": [
    "res_table5=range_feat_table.groupby(['descriptor','desc_params_lvl1', 'desc_params_lvl2']).agg(np.mean)\n",
    "res_table5.to_excel(\"desc_params_lvl2.xlsx\",\n",
    "             sheet_name='Sheet_name_1')\n",
    "res_table5"
   ],
   "metadata": {
    "collapsed": false,
    "pycharm": {
     "name": "#%%\n"
    }
   }
  },
  {
   "cell_type": "markdown",
   "source": [
    "Также можно заметить, что среди вейвелт статистик более информативной является стандартное отклонение.\n",
    "А в LBP дескрипторе более детальная гистограмма с 26-ю бинами менее информативна, чем та же гистограмма с 10-ю бинами.\n"
   ],
   "metadata": {
    "collapsed": false
   }
  }
 ],
 "metadata": {
  "kernelspec": {
   "display_name": "Python 3",
   "language": "python",
   "name": "python3"
  },
  "language_info": {
   "codemirror_mode": {
    "name": "ipython",
    "version": 2
   },
   "file_extension": ".py",
   "mimetype": "text/x-python",
   "name": "python",
   "nbconvert_exporter": "python",
   "pygments_lexer": "ipython2",
   "version": "2.7.6"
  }
 },
 "nbformat": 4,
 "nbformat_minor": 0
}